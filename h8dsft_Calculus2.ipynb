{
  "nbformat": 4,
  "nbformat_minor": 0,
  "metadata": {
    "colab": {
      "name": "h8dsft_Calculus2.ipynb",
      "provenance": [],
      "collapsed_sections": [],
      "authorship_tag": "ABX9TyO7ENth1WhufgqZwKfN2MP9",
      "include_colab_link": true
    },
    "kernelspec": {
      "name": "python3",
      "display_name": "Python 3"
    },
    "language_info": {
      "name": "python"
    }
  },
  "cells": [
    {
      "cell_type": "markdown",
      "metadata": {
        "id": "view-in-github",
        "colab_type": "text"
      },
      "source": [
        "<a href=\"https://colab.research.google.com/github/tsrrbbn040/FTDS_NG/blob/main/h8dsft_Calculus2.ipynb\" target=\"_parent\"><img src=\"https://colab.research.google.com/assets/colab-badge.svg\" alt=\"Open In Colab\"/></a>"
      ]
    },
    {
      "cell_type": "markdown",
      "metadata": {
        "id": "zzj-nl_r8Nls"
      },
      "source": [
        "# Identitas\n",
        "  \n",
        "  * Nama : Muhammad Itsar Rabbani\n",
        "  * Batch : 006"
      ]
    },
    {
      "cell_type": "markdown",
      "metadata": {
        "id": "EhO6huUf8xfi"
      },
      "source": [
        "## 1. Carilah Integral dari fungsi berikut:\n",
        "\n",
        "A = 3*x**2 - 6*x + 3*dx\n",
        "\n",
        "B = 8*x**3 - 1*x**2 + 5*x - 1*dx"
      ]
    },
    {
      "cell_type": "code",
      "metadata": {
        "id": "ng3wB4GG8uod"
      },
      "source": [
        "#import function\n",
        "import sympy as sy\n",
        "\n",
        "#insert symbol\n",
        "x = sy.Symbol('x')\n",
        "\n",
        "#insert fungsi A dan B\n",
        "A = 3*x**2 - 6*x + 3\n",
        "B = 8*x**3 - 1*x**2 + 5*x - 1"
      ],
      "execution_count": 3,
      "outputs": []
    },
    {
      "cell_type": "markdown",
      "metadata": {
        "id": "WzTfoFtI9kgc"
      },
      "source": [
        "**Tampilan fungsi A dan B dalam Python**"
      ]
    },
    {
      "cell_type": "code",
      "metadata": {
        "colab": {
          "base_uri": "https://localhost:8080/",
          "height": 38
        },
        "id": "Omy7OboS9LjT",
        "outputId": "9f03316c-9e34-4179-db79-01bbf346c268"
      },
      "source": [
        "#menampilkan fungsi A dalam python\n",
        "A"
      ],
      "execution_count": 6,
      "outputs": [
        {
          "output_type": "execute_result",
          "data": {
            "text/latex": "$\\displaystyle 3 x^{2} - 6 x + 3$",
            "text/plain": [
              "3*x**2 - 6*x + 3"
            ]
          },
          "metadata": {},
          "execution_count": 6
        }
      ]
    },
    {
      "cell_type": "code",
      "metadata": {
        "colab": {
          "base_uri": "https://localhost:8080/",
          "height": 38
        },
        "id": "6qrrICPB9Sqk",
        "outputId": "d0f908d0-cd9c-4b52-c38c-07650ebddf89"
      },
      "source": [
        "#menampilkan fungsi B dalam python\n",
        "B"
      ],
      "execution_count": 7,
      "outputs": [
        {
          "output_type": "execute_result",
          "data": {
            "text/latex": "$\\displaystyle 8 x^{3} - x^{2} + 5 x - 1$",
            "text/plain": [
              "8*x**3 - x**2 + 5*x - 1"
            ]
          },
          "metadata": {},
          "execution_count": 7
        }
      ]
    },
    {
      "cell_type": "markdown",
      "metadata": {
        "id": "WQMnnkqy-DUY"
      },
      "source": [
        "dalam python, istilah dx tidak perlu ditulis. pun ketika ditulis hasilnya akan error.\n",
        "\n",
        "Walau demikian, nanti pada hasilnya akan tetap terlihat"
      ]
    },
    {
      "cell_type": "markdown",
      "metadata": {
        "id": "6EKig0-I9n2K"
      },
      "source": [
        "**Hasil integral fungsi A**"
      ]
    },
    {
      "cell_type": "code",
      "metadata": {
        "colab": {
          "base_uri": "https://localhost:8080/",
          "height": 38
        },
        "id": "a7vguCAn9WYT",
        "outputId": "fe740ded-dfbf-430f-c5d0-9a38de1baa07"
      },
      "source": [
        "sy.integrate(A)"
      ],
      "execution_count": 8,
      "outputs": [
        {
          "output_type": "execute_result",
          "data": {
            "text/latex": "$\\displaystyle x^{3} - 3 x^{2} + 3 x$",
            "text/plain": [
              "x**3 - 3*x**2 + 3*x"
            ]
          },
          "metadata": {},
          "execution_count": 8
        }
      ]
    },
    {
      "cell_type": "markdown",
      "metadata": {
        "id": "uAZew5qy9vo8"
      },
      "source": [
        "**Hasil integral fungsi B**"
      ]
    },
    {
      "cell_type": "code",
      "metadata": {
        "colab": {
          "base_uri": "https://localhost:8080/",
          "height": 53
        },
        "id": "bSjpr7Ov9szz",
        "outputId": "72803a8f-ffc4-4162-c187-d2d4af9582bc"
      },
      "source": [
        "sy.integrate(B)"
      ],
      "execution_count": 9,
      "outputs": [
        {
          "output_type": "execute_result",
          "data": {
            "text/latex": "$\\displaystyle 2 x^{4} - \\frac{x^{3}}{3} + \\frac{5 x^{2}}{2} - x$",
            "text/plain": [
              "2*x**4 - x**3/3 + 5*x**2/2 - x"
            ]
          },
          "metadata": {},
          "execution_count": 9
        }
      ]
    }
  ]
}