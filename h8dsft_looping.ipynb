{
  "nbformat": 4,
  "nbformat_minor": 0,
  "metadata": {
    "colab": {
      "name": "h8dsft_looping.ipynb",
      "provenance": []
    },
    "kernelspec": {
      "name": "python3",
      "display_name": "Python 3"
    },
    "language_info": {
      "name": "python"
    }
  },
  "cells": [
    {
      "cell_type": "markdown",
      "metadata": {
        "id": "gw-6Ettp_T8A"
      },
      "source": [
        "# **Task Instructions**\n",
        "\n",
        "Buatlah sebuah list dengan value berupa:\n",
        "\n",
        "numbers = [951, 402, 984, 651, 360, 69, 408, 319, 601, 485, 980, 507, 725, 547, 544, 615, 83, 165, 141, 501, 263, 617, 865, 575, 219, 390, 984, 592, 236, 105, 942, 941, 386, 462, 47, 418, 907, 344, 236, 375, 823, 566, 597, 978, 328, 615, 953, 345, 399, 162, 758, 219, 918, 237, 412, 566, 826, 248, 866, 950, 626, 949]\n",
        "\n",
        "Loop dan print semua angka genap dari list angka diatas dengan urutan yang sama. **Jangan** mencetak angka apa pun yang muncul **setelah angka 918**.\n",
        "\n",
        "Tampilkan pesan 'Done' setelah looping berakhir."
      ]
    },
    {
      "cell_type": "markdown",
      "metadata": {
        "id": "-6IkSbsF_sY_"
      },
      "source": [
        "# **SOLVING**"
      ]
    },
    {
      "cell_type": "code",
      "metadata": {
        "colab": {
          "base_uri": "https://localhost:8080/"
        },
        "id": "bNWPtxd6_Oen",
        "outputId": "adadb278-3247-4107-9756-ae278dbbb614"
      },
      "source": [
        "numbers = [951, 402, 984, 651, 360, 69, 408, 319, 601, 485, 980, 507, 725, 547, 544, 615, 83, 165, 141, 501, 263, 617, 865, 575, 219, 390, 984, 592, 236, 105, 942, 941, 386, 462, 47, 418, 907, 344, 236, 375, 823, 566, 597, 978, 328, 615, 953, 345, 399, 162, 758, 219, 918, 237, 412, 566, 826, 248, 866, 950, 626, 949]\n",
        "\n",
        "for genap in numbers:     #mulai mencari angka genap\n",
        "    if genap % 2 == 0:    #mencari angka genap dari numbers dengan boolean \n",
        "      if genap < 918:     #mengeliminasi angka genap yang lebih dari 918 dari hasil syntax sebelumnya\n",
        "       print(genap)       #menampilkan semua angka genap pada numbers tanpa angka yang lebih dari 918\n",
        "print('Done')             #menampilkan Done"
      ],
      "execution_count": 1,
      "outputs": [
        {
          "output_type": "stream",
          "name": "stdout",
          "text": [
            "402\n",
            "360\n",
            "408\n",
            "544\n",
            "390\n",
            "592\n",
            "236\n",
            "386\n",
            "462\n",
            "418\n",
            "344\n",
            "236\n",
            "566\n",
            "328\n",
            "162\n",
            "758\n",
            "412\n",
            "566\n",
            "826\n",
            "248\n",
            "866\n",
            "626\n",
            "Done\n"
          ]
        }
      ]
    }
  ]
}