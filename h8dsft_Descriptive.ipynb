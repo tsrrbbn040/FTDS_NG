{
  "nbformat": 4,
  "nbformat_minor": 0,
  "metadata": {
    "colab": {
      "name": "h8dsft_Descriptive.ipynb",
      "provenance": [],
      "collapsed_sections": [],
      "authorship_tag": "ABX9TyPlqqGbqJ92awSXDCjcTjFc",
      "include_colab_link": true
    },
    "kernelspec": {
      "name": "python3",
      "display_name": "Python 3"
    },
    "language_info": {
      "name": "python"
    }
  },
  "cells": [
    {
      "cell_type": "markdown",
      "metadata": {
        "id": "view-in-github",
        "colab_type": "text"
      },
      "source": [
        "<a href=\"https://colab.research.google.com/github/tsrrbbn040/FTDS_NG/blob/main/h8dsft_Descriptive.ipynb\" target=\"_parent\"><img src=\"https://colab.research.google.com/assets/colab-badge.svg\" alt=\"Open In Colab\"/></a>"
      ]
    },
    {
      "cell_type": "markdown",
      "metadata": {
        "id": "TvmXYltfNA4v"
      },
      "source": [
        "# A. Identitas\n",
        "\n",
        "* Nama : Muhammad Itsar Rabbani\n",
        "* Batch : 006\n",
        "* Objective :\n",
        "  * Mencari Measure of Central Tendency dari sebuah dataset\n",
        "  * Mencari Measure of Variance dari sebuah dataset\n",
        "* Studi Kasus :\n",
        "  * nilai rata-rata kasus harian dari sebuah pulau\n",
        "  * nilai median kasus harian dari sebuah pulau\n",
        "  * nilai modus kasus harian dari sebuah pulau\n",
        "  * nilai variansi dari kasus harian pada sebuah pulau\n",
        "  * nilai standar deviasi dari kasus harian pada sebuah pulau\n"
      ]
    },
    {
      "cell_type": "markdown",
      "metadata": {
        "id": "8Bi07ZOqNj9_"
      },
      "source": [
        "# B. Import Data"
      ]
    },
    {
      "cell_type": "markdown",
      "metadata": {
        "id": "ffqNuLA2RVeK"
      },
      "source": [
        "Import Kaggle & Download Data Set"
      ]
    },
    {
      "cell_type": "code",
      "metadata": {
        "id": "vaLOJExsPhXe"
      },
      "source": [
        "#permission access kaggle to root\n",
        "!mkdir -p ~/.kaggle\n",
        "!cp kaggle.json ~/.kaggle"
      ],
      "execution_count": 41,
      "outputs": []
    },
    {
      "cell_type": "code",
      "metadata": {
        "colab": {
          "base_uri": "https://localhost:8080/"
        },
        "id": "1D2GpHo6RKnG",
        "outputId": "f3b23428-aeff-4afc-c90a-d3c18de6a718"
      },
      "source": [
        "#kaggle on default folder\n",
        "!mkdir ./kaggle\n",
        "!mv ./kaggle.json /kaggle"
      ],
      "execution_count": 42,
      "outputs": [
        {
          "output_type": "stream",
          "name": "stdout",
          "text": [
            "mkdir: cannot create directory ‘./kaggle’: File exists\n"
          ]
        }
      ]
    },
    {
      "cell_type": "code",
      "metadata": {
        "id": "xQIBXlOSRMeT"
      },
      "source": [
        "#granting access permission\n",
        "!chmod 600 ~/.kaggle/kaggle.json"
      ],
      "execution_count": 43,
      "outputs": []
    },
    {
      "cell_type": "code",
      "metadata": {
        "colab": {
          "base_uri": "https://localhost:8080/"
        },
        "id": "p2anUK4QRN7S",
        "outputId": "3fb5f7c3-ffaa-47e8-97aa-d6522d8fa7e5"
      },
      "source": [
        "#download dataset\n",
        "!kaggle datasets download -d hendratno/covid19-indonesia\n",
        "!mkdir covid19\n",
        "!unzip covid19-indonesia -d covid19"
      ],
      "execution_count": 44,
      "outputs": [
        {
          "output_type": "stream",
          "name": "stdout",
          "text": [
            "covid19-indonesia.zip: Skipping, found more recently modified local copy (use --force to force download)\n",
            "mkdir: cannot create directory ‘covid19’: File exists\n",
            "Archive:  covid19-indonesia.zip\n",
            "  inflating: covid19/covid_19_indonesia_time_series_all.csv  \n"
          ]
        }
      ]
    },
    {
      "cell_type": "code",
      "metadata": {
        "id": "JxdtBXDeRcn7"
      },
      "source": [
        "#ganti nama file\n",
        "import os\n",
        "os.rename(r'/content/covid19/covid_19_indonesia_time_series_all.csv',r'/content/covid19/covid_19.csv')\n"
      ],
      "execution_count": 45,
      "outputs": []
    },
    {
      "cell_type": "code",
      "metadata": {
        "id": "ZmFJ1Ei1SM2y"
      },
      "source": [
        "#Import Library\n",
        "\n",
        "import pandas as pd\n",
        "import numpy as py"
      ],
      "execution_count": 46,
      "outputs": []
    },
    {
      "cell_type": "markdown",
      "metadata": {
        "id": "oFLJD57MTTMJ"
      },
      "source": [
        "# C. Data Load"
      ]
    },
    {
      "cell_type": "code",
      "metadata": {
        "colab": {
          "base_uri": "https://localhost:8080/",
          "height": 382
        },
        "id": "omOBR1ZVTU7Y",
        "outputId": "9dd16879-04af-4ca2-92e6-fd2b14e7d3e3"
      },
      "source": [
        "covid = pd.read_csv('/content/covid19/covid_19.csv')\n",
        "covid.head()"
      ],
      "execution_count": 47,
      "outputs": [
        {
          "output_type": "execute_result",
          "data": {
            "text/html": [
              "<div>\n",
              "<style scoped>\n",
              "    .dataframe tbody tr th:only-of-type {\n",
              "        vertical-align: middle;\n",
              "    }\n",
              "\n",
              "    .dataframe tbody tr th {\n",
              "        vertical-align: top;\n",
              "    }\n",
              "\n",
              "    .dataframe thead th {\n",
              "        text-align: right;\n",
              "    }\n",
              "</style>\n",
              "<table border=\"1\" class=\"dataframe\">\n",
              "  <thead>\n",
              "    <tr style=\"text-align: right;\">\n",
              "      <th></th>\n",
              "      <th>Date</th>\n",
              "      <th>Location ISO Code</th>\n",
              "      <th>Location</th>\n",
              "      <th>New Cases</th>\n",
              "      <th>New Deaths</th>\n",
              "      <th>New Recovered</th>\n",
              "      <th>New Active Cases</th>\n",
              "      <th>Total Cases</th>\n",
              "      <th>Total Deaths</th>\n",
              "      <th>Total Recovered</th>\n",
              "      <th>Total Active Cases</th>\n",
              "      <th>Location Level</th>\n",
              "      <th>City or Regency</th>\n",
              "      <th>Province</th>\n",
              "      <th>Country</th>\n",
              "      <th>Continent</th>\n",
              "      <th>Island</th>\n",
              "      <th>Time Zone</th>\n",
              "      <th>Special Status</th>\n",
              "      <th>Total Regencies</th>\n",
              "      <th>Total Cities</th>\n",
              "      <th>Total Districts</th>\n",
              "      <th>Total Urban Villages</th>\n",
              "      <th>Total Rural Villages</th>\n",
              "      <th>Area (km2)</th>\n",
              "      <th>Population</th>\n",
              "      <th>Population Density</th>\n",
              "      <th>Longitude</th>\n",
              "      <th>Latitude</th>\n",
              "      <th>New Cases per Million</th>\n",
              "      <th>Total Cases per Million</th>\n",
              "      <th>New Deaths per Million</th>\n",
              "      <th>Total Deaths per Million</th>\n",
              "      <th>Total Deaths per 100rb</th>\n",
              "      <th>Case Fatality Rate</th>\n",
              "      <th>Case Recovered Rate</th>\n",
              "      <th>Growth Factor of New Cases</th>\n",
              "      <th>Growth Factor of New Deaths</th>\n",
              "    </tr>\n",
              "  </thead>\n",
              "  <tbody>\n",
              "    <tr>\n",
              "      <th>0</th>\n",
              "      <td>3/1/2020</td>\n",
              "      <td>ID-JK</td>\n",
              "      <td>DKI Jakarta</td>\n",
              "      <td>2</td>\n",
              "      <td>0</td>\n",
              "      <td>0</td>\n",
              "      <td>2</td>\n",
              "      <td>39</td>\n",
              "      <td>20</td>\n",
              "      <td>41</td>\n",
              "      <td>-22</td>\n",
              "      <td>Province</td>\n",
              "      <td>NaN</td>\n",
              "      <td>DKI Jakarta</td>\n",
              "      <td>Indonesia</td>\n",
              "      <td>Asia</td>\n",
              "      <td>Jawa</td>\n",
              "      <td>UTC+07:00</td>\n",
              "      <td>Daerah Khusus Ibu Kota</td>\n",
              "      <td>1</td>\n",
              "      <td>5.0</td>\n",
              "      <td>44</td>\n",
              "      <td>267.0</td>\n",
              "      <td>NaN</td>\n",
              "      <td>664</td>\n",
              "      <td>10846145</td>\n",
              "      <td>16334.31</td>\n",
              "      <td>106.836118</td>\n",
              "      <td>-6.204699</td>\n",
              "      <td>0.18</td>\n",
              "      <td>3.60</td>\n",
              "      <td>0.0</td>\n",
              "      <td>1.84</td>\n",
              "      <td>0.18</td>\n",
              "      <td>51.28%</td>\n",
              "      <td>105.13%</td>\n",
              "      <td>NaN</td>\n",
              "      <td>NaN</td>\n",
              "    </tr>\n",
              "    <tr>\n",
              "      <th>1</th>\n",
              "      <td>3/2/2020</td>\n",
              "      <td>ID-JK</td>\n",
              "      <td>DKI Jakarta</td>\n",
              "      <td>2</td>\n",
              "      <td>0</td>\n",
              "      <td>0</td>\n",
              "      <td>2</td>\n",
              "      <td>41</td>\n",
              "      <td>20</td>\n",
              "      <td>41</td>\n",
              "      <td>-20</td>\n",
              "      <td>Province</td>\n",
              "      <td>NaN</td>\n",
              "      <td>DKI Jakarta</td>\n",
              "      <td>Indonesia</td>\n",
              "      <td>Asia</td>\n",
              "      <td>Jawa</td>\n",
              "      <td>UTC+07:00</td>\n",
              "      <td>Daerah Khusus Ibu Kota</td>\n",
              "      <td>1</td>\n",
              "      <td>5.0</td>\n",
              "      <td>44</td>\n",
              "      <td>267.0</td>\n",
              "      <td>NaN</td>\n",
              "      <td>664</td>\n",
              "      <td>10846145</td>\n",
              "      <td>16334.31</td>\n",
              "      <td>106.836118</td>\n",
              "      <td>-6.204699</td>\n",
              "      <td>0.18</td>\n",
              "      <td>3.78</td>\n",
              "      <td>0.0</td>\n",
              "      <td>1.84</td>\n",
              "      <td>0.18</td>\n",
              "      <td>48.78%</td>\n",
              "      <td>100.00%</td>\n",
              "      <td>1.0</td>\n",
              "      <td>1.0</td>\n",
              "    </tr>\n",
              "    <tr>\n",
              "      <th>2</th>\n",
              "      <td>3/2/2020</td>\n",
              "      <td>IDN</td>\n",
              "      <td>Indonesia</td>\n",
              "      <td>2</td>\n",
              "      <td>0</td>\n",
              "      <td>0</td>\n",
              "      <td>2</td>\n",
              "      <td>2</td>\n",
              "      <td>0</td>\n",
              "      <td>0</td>\n",
              "      <td>2</td>\n",
              "      <td>Country</td>\n",
              "      <td>NaN</td>\n",
              "      <td>NaN</td>\n",
              "      <td>Indonesia</td>\n",
              "      <td>Asia</td>\n",
              "      <td>NaN</td>\n",
              "      <td>NaN</td>\n",
              "      <td>NaN</td>\n",
              "      <td>416</td>\n",
              "      <td>98.0</td>\n",
              "      <td>7230</td>\n",
              "      <td>8488.0</td>\n",
              "      <td>74953.0</td>\n",
              "      <td>1916907</td>\n",
              "      <td>265185520</td>\n",
              "      <td>138.34</td>\n",
              "      <td>113.921327</td>\n",
              "      <td>-0.789275</td>\n",
              "      <td>0.01</td>\n",
              "      <td>0.01</td>\n",
              "      <td>0.0</td>\n",
              "      <td>0.00</td>\n",
              "      <td>0.00</td>\n",
              "      <td>0.00%</td>\n",
              "      <td>0.00%</td>\n",
              "      <td>NaN</td>\n",
              "      <td>NaN</td>\n",
              "    </tr>\n",
              "    <tr>\n",
              "      <th>3</th>\n",
              "      <td>3/2/2020</td>\n",
              "      <td>ID-RI</td>\n",
              "      <td>Riau</td>\n",
              "      <td>1</td>\n",
              "      <td>0</td>\n",
              "      <td>0</td>\n",
              "      <td>1</td>\n",
              "      <td>2</td>\n",
              "      <td>0</td>\n",
              "      <td>3</td>\n",
              "      <td>-1</td>\n",
              "      <td>Province</td>\n",
              "      <td>NaN</td>\n",
              "      <td>Riau</td>\n",
              "      <td>Indonesia</td>\n",
              "      <td>Asia</td>\n",
              "      <td>Sumatera</td>\n",
              "      <td>UTC+07:00</td>\n",
              "      <td>NaN</td>\n",
              "      <td>10</td>\n",
              "      <td>2.0</td>\n",
              "      <td>169</td>\n",
              "      <td>268.0</td>\n",
              "      <td>1591.0</td>\n",
              "      <td>87024</td>\n",
              "      <td>6074100</td>\n",
              "      <td>69.80</td>\n",
              "      <td>101.805109</td>\n",
              "      <td>0.511648</td>\n",
              "      <td>0.16</td>\n",
              "      <td>0.33</td>\n",
              "      <td>0.0</td>\n",
              "      <td>0.00</td>\n",
              "      <td>0.00</td>\n",
              "      <td>0.00%</td>\n",
              "      <td>150.00%</td>\n",
              "      <td>NaN</td>\n",
              "      <td>NaN</td>\n",
              "    </tr>\n",
              "    <tr>\n",
              "      <th>4</th>\n",
              "      <td>3/3/2020</td>\n",
              "      <td>ID-JK</td>\n",
              "      <td>DKI Jakarta</td>\n",
              "      <td>2</td>\n",
              "      <td>0</td>\n",
              "      <td>0</td>\n",
              "      <td>2</td>\n",
              "      <td>43</td>\n",
              "      <td>20</td>\n",
              "      <td>41</td>\n",
              "      <td>-18</td>\n",
              "      <td>Province</td>\n",
              "      <td>NaN</td>\n",
              "      <td>DKI Jakarta</td>\n",
              "      <td>Indonesia</td>\n",
              "      <td>Asia</td>\n",
              "      <td>Jawa</td>\n",
              "      <td>UTC+07:00</td>\n",
              "      <td>Daerah Khusus Ibu Kota</td>\n",
              "      <td>1</td>\n",
              "      <td>5.0</td>\n",
              "      <td>44</td>\n",
              "      <td>267.0</td>\n",
              "      <td>NaN</td>\n",
              "      <td>664</td>\n",
              "      <td>10846145</td>\n",
              "      <td>16334.31</td>\n",
              "      <td>106.836118</td>\n",
              "      <td>-6.204699</td>\n",
              "      <td>0.18</td>\n",
              "      <td>3.96</td>\n",
              "      <td>0.0</td>\n",
              "      <td>1.84</td>\n",
              "      <td>0.18</td>\n",
              "      <td>46.51%</td>\n",
              "      <td>95.35%</td>\n",
              "      <td>1.0</td>\n",
              "      <td>1.0</td>\n",
              "    </tr>\n",
              "  </tbody>\n",
              "</table>\n",
              "</div>"
            ],
            "text/plain": [
              "       Date  ... Growth Factor of New Deaths\n",
              "0  3/1/2020  ...                         NaN\n",
              "1  3/2/2020  ...                         1.0\n",
              "2  3/2/2020  ...                         NaN\n",
              "3  3/2/2020  ...                         NaN\n",
              "4  3/3/2020  ...                         1.0\n",
              "\n",
              "[5 rows x 38 columns]"
            ]
          },
          "metadata": {},
          "execution_count": 47
        }
      ]
    },
    {
      "cell_type": "code",
      "metadata": {
        "colab": {
          "base_uri": "https://localhost:8080/"
        },
        "id": "l2gquxplTeUW",
        "outputId": "d77d8ce0-698c-44ee-d48d-9f050e4f5011"
      },
      "source": [
        "covid.info()"
      ],
      "execution_count": 48,
      "outputs": [
        {
          "output_type": "stream",
          "name": "stdout",
          "text": [
            "<class 'pandas.core.frame.DataFrame'>\n",
            "RangeIndex: 21759 entries, 0 to 21758\n",
            "Data columns (total 38 columns):\n",
            " #   Column                       Non-Null Count  Dtype  \n",
            "---  ------                       --------------  -----  \n",
            " 0   Date                         21759 non-null  object \n",
            " 1   Location ISO Code            21759 non-null  object \n",
            " 2   Location                     21759 non-null  object \n",
            " 3   New Cases                    21759 non-null  int64  \n",
            " 4   New Deaths                   21759 non-null  int64  \n",
            " 5   New Recovered                21759 non-null  int64  \n",
            " 6   New Active Cases             21759 non-null  int64  \n",
            " 7   Total Cases                  21759 non-null  int64  \n",
            " 8   Total Deaths                 21759 non-null  int64  \n",
            " 9   Total Recovered              21759 non-null  int64  \n",
            " 10  Total Active Cases           21759 non-null  int64  \n",
            " 11  Location Level               21759 non-null  object \n",
            " 12  City or Regency              0 non-null      float64\n",
            " 13  Province                     21117 non-null  object \n",
            " 14  Country                      21759 non-null  object \n",
            " 15  Continent                    21759 non-null  object \n",
            " 16  Island                       21117 non-null  object \n",
            " 17  Time Zone                    21117 non-null  object \n",
            " 18  Special Status               3123 non-null   object \n",
            " 19  Total Regencies              21759 non-null  int64  \n",
            " 20  Total Cities                 21145 non-null  float64\n",
            " 21  Total Districts              21759 non-null  int64  \n",
            " 22  Total Urban Villages         21142 non-null  float64\n",
            " 23  Total Rural Villages         21117 non-null  float64\n",
            " 24  Area (km2)                   21759 non-null  int64  \n",
            " 25  Population                   21759 non-null  int64  \n",
            " 26  Population Density           21759 non-null  float64\n",
            " 27  Longitude                    21759 non-null  float64\n",
            " 28  Latitude                     21759 non-null  float64\n",
            " 29  New Cases per Million        21759 non-null  float64\n",
            " 30  Total Cases per Million      21759 non-null  float64\n",
            " 31  New Deaths per Million       21759 non-null  float64\n",
            " 32  Total Deaths per Million     21759 non-null  float64\n",
            " 33  Total Deaths per 100rb       21759 non-null  float64\n",
            " 34  Case Fatality Rate           21759 non-null  object \n",
            " 35  Case Recovered Rate          21759 non-null  object \n",
            " 36  Growth Factor of New Cases   20572 non-null  float64\n",
            " 37  Growth Factor of New Deaths  19292 non-null  float64\n",
            "dtypes: float64(14), int64(12), object(12)\n",
            "memory usage: 6.3+ MB\n"
          ]
        }
      ]
    },
    {
      "cell_type": "markdown",
      "metadata": {
        "id": "M8YDNHElMcwQ"
      },
      "source": [
        "# D. Data Cleaning"
      ]
    },
    {
      "cell_type": "code",
      "metadata": {
        "colab": {
          "base_uri": "https://localhost:8080/",
          "height": 574
        },
        "id": "8FujQ3bJTh9M",
        "outputId": "8fc7df83-c55f-4ff7-fc11-06cd4f161e6b"
      },
      "source": [
        "#menghapus kolom yang tidak digunakan\n",
        "new_covid = covid.drop([\n",
        "                 'Location ISO Code', 'City or Regency', 'Province',\n",
        "                 'Country', 'Continent', 'Time Zone', 'Special Status',\n",
        "                 'Total Regencies', 'Total Cities', 'Total Districts',\n",
        "                 'Total Urban Villages', 'Total Rural Villages', 'Area (km2)',\n",
        "                 'Population Density', 'Longitude', 'Latitude',\n",
        "                 'New Cases per Million', 'Total Cases per Million',\n",
        "                 'New Deaths per Million', 'Total Deaths per Million', 'Total Deaths per 100rb'\n",
        "], axis = 1)\n",
        "\n",
        "#mengisi nilai 0 pada data yang kosong\n",
        "new_covid = new_covid.fillna(0)\n",
        "\n",
        "#mengeluarkan indonesia dari index\n",
        "new_covid = new_covid[new_covid['Location Level'] != 'Country']\n",
        "new_covid.tail(10)"
      ],
      "execution_count": 76,
      "outputs": [
        {
          "output_type": "execute_result",
          "data": {
            "text/html": [
              "<div>\n",
              "<style scoped>\n",
              "    .dataframe tbody tr th:only-of-type {\n",
              "        vertical-align: middle;\n",
              "    }\n",
              "\n",
              "    .dataframe tbody tr th {\n",
              "        vertical-align: top;\n",
              "    }\n",
              "\n",
              "    .dataframe thead th {\n",
              "        text-align: right;\n",
              "    }\n",
              "</style>\n",
              "<table border=\"1\" class=\"dataframe\">\n",
              "  <thead>\n",
              "    <tr style=\"text-align: right;\">\n",
              "      <th></th>\n",
              "      <th>Date</th>\n",
              "      <th>Location</th>\n",
              "      <th>New Cases</th>\n",
              "      <th>New Deaths</th>\n",
              "      <th>New Recovered</th>\n",
              "      <th>New Active Cases</th>\n",
              "      <th>Total Cases</th>\n",
              "      <th>Total Deaths</th>\n",
              "      <th>Total Recovered</th>\n",
              "      <th>Total Active Cases</th>\n",
              "      <th>Location Level</th>\n",
              "      <th>Island</th>\n",
              "      <th>Population</th>\n",
              "      <th>Case Fatality Rate</th>\n",
              "      <th>Case Recovered Rate</th>\n",
              "      <th>Growth Factor of New Cases</th>\n",
              "      <th>Growth Factor of New Deaths</th>\n",
              "    </tr>\n",
              "  </thead>\n",
              "  <tbody>\n",
              "    <tr>\n",
              "      <th>21748</th>\n",
              "      <td>12/2/2021</td>\n",
              "      <td>Papua</td>\n",
              "      <td>2</td>\n",
              "      <td>0</td>\n",
              "      <td>0</td>\n",
              "      <td>2</td>\n",
              "      <td>34341</td>\n",
              "      <td>559</td>\n",
              "      <td>32074</td>\n",
              "      <td>1708</td>\n",
              "      <td>Province</td>\n",
              "      <td>Papua</td>\n",
              "      <td>4340348</td>\n",
              "      <td>1.63%</td>\n",
              "      <td>93.40%</td>\n",
              "      <td>1.0</td>\n",
              "      <td>1.0</td>\n",
              "    </tr>\n",
              "    <tr>\n",
              "      <th>21749</th>\n",
              "      <td>12/2/2021</td>\n",
              "      <td>Papua Barat</td>\n",
              "      <td>9</td>\n",
              "      <td>0</td>\n",
              "      <td>0</td>\n",
              "      <td>9</td>\n",
              "      <td>23378</td>\n",
              "      <td>357</td>\n",
              "      <td>22771</td>\n",
              "      <td>250</td>\n",
              "      <td>Province</td>\n",
              "      <td>Papua</td>\n",
              "      <td>1140701</td>\n",
              "      <td>1.53%</td>\n",
              "      <td>97.40%</td>\n",
              "      <td>4.5</td>\n",
              "      <td>1.0</td>\n",
              "    </tr>\n",
              "    <tr>\n",
              "      <th>21750</th>\n",
              "      <td>12/2/2021</td>\n",
              "      <td>Riau</td>\n",
              "      <td>4</td>\n",
              "      <td>0</td>\n",
              "      <td>0</td>\n",
              "      <td>4</td>\n",
              "      <td>128825</td>\n",
              "      <td>4109</td>\n",
              "      <td>124123</td>\n",
              "      <td>593</td>\n",
              "      <td>Province</td>\n",
              "      <td>Sumatera</td>\n",
              "      <td>6074100</td>\n",
              "      <td>3.19%</td>\n",
              "      <td>96.35%</td>\n",
              "      <td>0.5</td>\n",
              "      <td>1.0</td>\n",
              "    </tr>\n",
              "    <tr>\n",
              "      <th>21751</th>\n",
              "      <td>12/2/2021</td>\n",
              "      <td>Sulawesi Selatan</td>\n",
              "      <td>1</td>\n",
              "      <td>1</td>\n",
              "      <td>1</td>\n",
              "      <td>-1</td>\n",
              "      <td>109919</td>\n",
              "      <td>2238</td>\n",
              "      <td>107630</td>\n",
              "      <td>51</td>\n",
              "      <td>Province</td>\n",
              "      <td>Sulawesi</td>\n",
              "      <td>9426885</td>\n",
              "      <td>2.04%</td>\n",
              "      <td>97.92%</td>\n",
              "      <td>1.0</td>\n",
              "      <td>0.0</td>\n",
              "    </tr>\n",
              "    <tr>\n",
              "      <th>21752</th>\n",
              "      <td>12/2/2021</td>\n",
              "      <td>Sulawesi Tengah</td>\n",
              "      <td>11</td>\n",
              "      <td>0</td>\n",
              "      <td>2</td>\n",
              "      <td>9</td>\n",
              "      <td>47153</td>\n",
              "      <td>1602</td>\n",
              "      <td>45503</td>\n",
              "      <td>48</td>\n",
              "      <td>Province</td>\n",
              "      <td>Sulawesi</td>\n",
              "      <td>2955567</td>\n",
              "      <td>3.40%</td>\n",
              "      <td>96.50%</td>\n",
              "      <td>2.2</td>\n",
              "      <td>1.0</td>\n",
              "    </tr>\n",
              "    <tr>\n",
              "      <th>21753</th>\n",
              "      <td>12/2/2021</td>\n",
              "      <td>Sulawesi Tenggara</td>\n",
              "      <td>3</td>\n",
              "      <td>0</td>\n",
              "      <td>0</td>\n",
              "      <td>3</td>\n",
              "      <td>20160</td>\n",
              "      <td>527</td>\n",
              "      <td>19583</td>\n",
              "      <td>50</td>\n",
              "      <td>Province</td>\n",
              "      <td>Sulawesi</td>\n",
              "      <td>2635461</td>\n",
              "      <td>2.61%</td>\n",
              "      <td>97.14%</td>\n",
              "      <td>0.0</td>\n",
              "      <td>1.0</td>\n",
              "    </tr>\n",
              "    <tr>\n",
              "      <th>21754</th>\n",
              "      <td>12/2/2021</td>\n",
              "      <td>Sulawesi Utara</td>\n",
              "      <td>2</td>\n",
              "      <td>0</td>\n",
              "      <td>0</td>\n",
              "      <td>2</td>\n",
              "      <td>34715</td>\n",
              "      <td>1056</td>\n",
              "      <td>33566</td>\n",
              "      <td>93</td>\n",
              "      <td>Province</td>\n",
              "      <td>Sulawesi</td>\n",
              "      <td>2641884</td>\n",
              "      <td>3.04%</td>\n",
              "      <td>96.69%</td>\n",
              "      <td>0.0</td>\n",
              "      <td>1.0</td>\n",
              "    </tr>\n",
              "    <tr>\n",
              "      <th>21755</th>\n",
              "      <td>12/2/2021</td>\n",
              "      <td>Sumatera Barat</td>\n",
              "      <td>4</td>\n",
              "      <td>0</td>\n",
              "      <td>0</td>\n",
              "      <td>4</td>\n",
              "      <td>89849</td>\n",
              "      <td>2152</td>\n",
              "      <td>87605</td>\n",
              "      <td>92</td>\n",
              "      <td>Province</td>\n",
              "      <td>Sumatera</td>\n",
              "      <td>5519245</td>\n",
              "      <td>2.40%</td>\n",
              "      <td>97.50%</td>\n",
              "      <td>4.0</td>\n",
              "      <td>1.0</td>\n",
              "    </tr>\n",
              "    <tr>\n",
              "      <th>21756</th>\n",
              "      <td>12/2/2021</td>\n",
              "      <td>Sumatera Selatan</td>\n",
              "      <td>4</td>\n",
              "      <td>0</td>\n",
              "      <td>0</td>\n",
              "      <td>4</td>\n",
              "      <td>59937</td>\n",
              "      <td>3071</td>\n",
              "      <td>56830</td>\n",
              "      <td>36</td>\n",
              "      <td>Province</td>\n",
              "      <td>Sumatera</td>\n",
              "      <td>8217551</td>\n",
              "      <td>5.12%</td>\n",
              "      <td>94.82%</td>\n",
              "      <td>4.0</td>\n",
              "      <td>1.0</td>\n",
              "    </tr>\n",
              "    <tr>\n",
              "      <th>21757</th>\n",
              "      <td>12/2/2021</td>\n",
              "      <td>Sumatera Utara</td>\n",
              "      <td>4</td>\n",
              "      <td>0</td>\n",
              "      <td>1</td>\n",
              "      <td>3</td>\n",
              "      <td>106045</td>\n",
              "      <td>2889</td>\n",
              "      <td>103061</td>\n",
              "      <td>95</td>\n",
              "      <td>Province</td>\n",
              "      <td>Sumatera</td>\n",
              "      <td>14874889</td>\n",
              "      <td>2.72%</td>\n",
              "      <td>97.19%</td>\n",
              "      <td>1.0</td>\n",
              "      <td>1.0</td>\n",
              "    </tr>\n",
              "  </tbody>\n",
              "</table>\n",
              "</div>"
            ],
            "text/plain": [
              "            Date  ... Growth Factor of New Deaths\n",
              "21748  12/2/2021  ...                         1.0\n",
              "21749  12/2/2021  ...                         1.0\n",
              "21750  12/2/2021  ...                         1.0\n",
              "21751  12/2/2021  ...                         0.0\n",
              "21752  12/2/2021  ...                         1.0\n",
              "21753  12/2/2021  ...                         1.0\n",
              "21754  12/2/2021  ...                         1.0\n",
              "21755  12/2/2021  ...                         1.0\n",
              "21756  12/2/2021  ...                         1.0\n",
              "21757  12/2/2021  ...                         1.0\n",
              "\n",
              "[10 rows x 17 columns]"
            ]
          },
          "metadata": {},
          "execution_count": 76
        }
      ]
    },
    {
      "cell_type": "code",
      "metadata": {
        "id": "De-IGJcMYKre"
      },
      "source": [
        "#merubah kolom Date dari object ke datetime\n",
        "new_covid['Date'] = pd.to_datetime(new_covid['Date'])"
      ],
      "execution_count": 77,
      "outputs": []
    },
    {
      "cell_type": "markdown",
      "metadata": {
        "id": "aVNH0p6Q1JbA"
      },
      "source": [
        "# E. Solving Problem\n",
        "\n",
        "Katakanlah kita mau mencari\n",
        "* nilai rata-rata kasus harian dari sebuah pulau\n",
        "* nilai median kasus harian dari sebuah pulau\n",
        "* nilai modus kasus harian dari sebuah pulau\n",
        "\n"
      ]
    },
    {
      "cell_type": "code",
      "metadata": {
        "id": "lET0Nxos5O-t"
      },
      "source": [
        "#df1 = Data Covid per tanggal x\n",
        "\n",
        "df1 = new_covid.drop_duplicates(subset='Location', keep=\"last\")"
      ],
      "execution_count": 117,
      "outputs": []
    },
    {
      "cell_type": "code",
      "metadata": {
        "colab": {
          "base_uri": "https://localhost:8080/"
        },
        "id": "sniNcRs78SRF",
        "outputId": "7c73df97-f982-4a63-ac8d-7ef87c2b04d3"
      },
      "source": [
        "df1['Date'].value_counts()"
      ],
      "execution_count": 84,
      "outputs": [
        {
          "output_type": "execute_result",
          "data": {
            "text/plain": [
              "2021-12-02    27\n",
              "2021-12-01     5\n",
              "2021-11-28     1\n",
              "2021-11-21     1\n",
              "Name: Date, dtype: int64"
            ]
          },
          "metadata": {},
          "execution_count": 84
        }
      ]
    },
    {
      "cell_type": "markdown",
      "metadata": {
        "id": "oFuLOP0S8T8B"
      },
      "source": [
        "karena datanya tidak equivalen, maka kita hanya akan mengambil data dari salah satu tanggal saja, dalam hal ini 02 Desember 2021"
      ]
    },
    {
      "cell_type": "code",
      "metadata": {
        "id": "B2KJesgP2jyw"
      },
      "source": [
        "#data 02 desember dientry pada DF 'desember'\n",
        "desember = df1[df1.Date == \"2021-12-02\"]"
      ],
      "execution_count": 118,
      "outputs": []
    },
    {
      "cell_type": "code",
      "metadata": {
        "colab": {
          "base_uri": "https://localhost:8080/",
          "height": 382
        },
        "id": "FLWoCaxa_wvW",
        "outputId": "6e3d53bf-6ed0-4d4b-a3a6-22c1786cdaad"
      },
      "source": [
        "desember.head()"
      ],
      "execution_count": 86,
      "outputs": [
        {
          "output_type": "execute_result",
          "data": {
            "text/html": [
              "<div>\n",
              "<style scoped>\n",
              "    .dataframe tbody tr th:only-of-type {\n",
              "        vertical-align: middle;\n",
              "    }\n",
              "\n",
              "    .dataframe tbody tr th {\n",
              "        vertical-align: top;\n",
              "    }\n",
              "\n",
              "    .dataframe thead th {\n",
              "        text-align: right;\n",
              "    }\n",
              "</style>\n",
              "<table border=\"1\" class=\"dataframe\">\n",
              "  <thead>\n",
              "    <tr style=\"text-align: right;\">\n",
              "      <th></th>\n",
              "      <th>Date</th>\n",
              "      <th>Location</th>\n",
              "      <th>New Cases</th>\n",
              "      <th>New Deaths</th>\n",
              "      <th>New Recovered</th>\n",
              "      <th>New Active Cases</th>\n",
              "      <th>Total Cases</th>\n",
              "      <th>Total Deaths</th>\n",
              "      <th>Total Recovered</th>\n",
              "      <th>Total Active Cases</th>\n",
              "      <th>Location Level</th>\n",
              "      <th>Island</th>\n",
              "      <th>Population</th>\n",
              "      <th>Case Fatality Rate</th>\n",
              "      <th>Case Recovered Rate</th>\n",
              "      <th>Growth Factor of New Cases</th>\n",
              "      <th>Growth Factor of New Deaths</th>\n",
              "    </tr>\n",
              "  </thead>\n",
              "  <tbody>\n",
              "    <tr>\n",
              "      <th>21730</th>\n",
              "      <td>2021-12-02</td>\n",
              "      <td>Aceh</td>\n",
              "      <td>2</td>\n",
              "      <td>0</td>\n",
              "      <td>0</td>\n",
              "      <td>2</td>\n",
              "      <td>38416</td>\n",
              "      <td>2066</td>\n",
              "      <td>36333</td>\n",
              "      <td>17</td>\n",
              "      <td>Province</td>\n",
              "      <td>Sumatera</td>\n",
              "      <td>5247257</td>\n",
              "      <td>5.38%</td>\n",
              "      <td>94.58%</td>\n",
              "      <td>0.00</td>\n",
              "      <td>1.0</td>\n",
              "    </tr>\n",
              "    <tr>\n",
              "      <th>21731</th>\n",
              "      <td>2021-12-02</td>\n",
              "      <td>Bali</td>\n",
              "      <td>15</td>\n",
              "      <td>1</td>\n",
              "      <td>1</td>\n",
              "      <td>13</td>\n",
              "      <td>114233</td>\n",
              "      <td>4046</td>\n",
              "      <td>110003</td>\n",
              "      <td>184</td>\n",
              "      <td>Province</td>\n",
              "      <td>Nusa Tenggara</td>\n",
              "      <td>4216171</td>\n",
              "      <td>3.54%</td>\n",
              "      <td>96.30%</td>\n",
              "      <td>3.00</td>\n",
              "      <td>0.0</td>\n",
              "    </tr>\n",
              "    <tr>\n",
              "      <th>21732</th>\n",
              "      <td>2021-12-02</td>\n",
              "      <td>Banten</td>\n",
              "      <td>16</td>\n",
              "      <td>0</td>\n",
              "      <td>1</td>\n",
              "      <td>15</td>\n",
              "      <td>132693</td>\n",
              "      <td>2688</td>\n",
              "      <td>129872</td>\n",
              "      <td>133</td>\n",
              "      <td>Province</td>\n",
              "      <td>Jawa</td>\n",
              "      <td>10722374</td>\n",
              "      <td>2.03%</td>\n",
              "      <td>97.87%</td>\n",
              "      <td>16.00</td>\n",
              "      <td>1.0</td>\n",
              "    </tr>\n",
              "    <tr>\n",
              "      <th>21733</th>\n",
              "      <td>2021-12-02</td>\n",
              "      <td>DKI Jakarta</td>\n",
              "      <td>28</td>\n",
              "      <td>0</td>\n",
              "      <td>0</td>\n",
              "      <td>28</td>\n",
              "      <td>864045</td>\n",
              "      <td>13596</td>\n",
              "      <td>849875</td>\n",
              "      <td>574</td>\n",
              "      <td>Province</td>\n",
              "      <td>Jawa</td>\n",
              "      <td>10846145</td>\n",
              "      <td>1.57%</td>\n",
              "      <td>98.36%</td>\n",
              "      <td>0.40</td>\n",
              "      <td>1.0</td>\n",
              "    </tr>\n",
              "    <tr>\n",
              "      <th>21734</th>\n",
              "      <td>2021-12-02</td>\n",
              "      <td>Daerah Istimewa Yogyakarta</td>\n",
              "      <td>7</td>\n",
              "      <td>0</td>\n",
              "      <td>0</td>\n",
              "      <td>7</td>\n",
              "      <td>156769</td>\n",
              "      <td>5263</td>\n",
              "      <td>150965</td>\n",
              "      <td>541</td>\n",
              "      <td>Province</td>\n",
              "      <td>Jawa</td>\n",
              "      <td>3631015</td>\n",
              "      <td>3.36%</td>\n",
              "      <td>96.30%</td>\n",
              "      <td>0.58</td>\n",
              "      <td>1.0</td>\n",
              "    </tr>\n",
              "  </tbody>\n",
              "</table>\n",
              "</div>"
            ],
            "text/plain": [
              "            Date  ... Growth Factor of New Deaths\n",
              "21730 2021-12-02  ...                         1.0\n",
              "21731 2021-12-02  ...                         0.0\n",
              "21732 2021-12-02  ...                         1.0\n",
              "21733 2021-12-02  ...                         1.0\n",
              "21734 2021-12-02  ...                         1.0\n",
              "\n",
              "[5 rows x 17 columns]"
            ]
          },
          "metadata": {},
          "execution_count": 86
        }
      ]
    },
    {
      "cell_type": "markdown",
      "metadata": {
        "id": "fqZVMdnJG7pY"
      },
      "source": [
        "## Central Tendency & Measure of Variance Pulau Jawa"
      ]
    },
    {
      "cell_type": "code",
      "metadata": {
        "colab": {
          "base_uri": "https://localhost:8080/"
        },
        "id": "zmxES-z813nJ",
        "outputId": "fc280276-1793-4240-ca4a-2b50f929e56c"
      },
      "source": [
        "#rata-rata kasus harian pulau jawa\n",
        "jawa = desember[desember.Island == 'Jawa']\n",
        "mean_jawa = jawa['New Active Cases'].mean()\n",
        "print(\"Rata-rata kasus harian pulau Jawa tanggal 02 Desember 2021 =\", mean_jawa, \"kasus\") "
      ],
      "execution_count": 89,
      "outputs": [
        {
          "output_type": "stream",
          "name": "stdout",
          "text": [
            "Rata-rata kasus harian pulau Jawa tanggal 02 Desember 2021 = 29.0 kasus\n"
          ]
        }
      ]
    },
    {
      "cell_type": "code",
      "metadata": {
        "colab": {
          "base_uri": "https://localhost:8080/"
        },
        "id": "fb9hInObA_N4",
        "outputId": "5cfa2c0a-248d-4301-f01b-cf1e1c50c171"
      },
      "source": [
        "#median kasus harian pulau jawa\n",
        "med_jawa = jawa['New Active Cases'].median()\n",
        "print(\"Nilai median kasus harian pulau Jawa tanggal 02 Desember 2021 =\", med_jawa)"
      ],
      "execution_count": 90,
      "outputs": [
        {
          "output_type": "stream",
          "name": "stdout",
          "text": [
            "Nilai median kasus harian pulau Jawa tanggal 02 Desember 2021 = 23.5\n"
          ]
        }
      ]
    },
    {
      "cell_type": "code",
      "metadata": {
        "colab": {
          "base_uri": "https://localhost:8080/"
        },
        "id": "c9YMIn9jBhSE",
        "outputId": "f01c7a2a-294f-4d27-eaaa-638ba2335c83"
      },
      "source": [
        "#modus kasus harian pulau jawa\n",
        "mod_jawa = jawa['New Active Cases'].mode()\n",
        "print(\"Nilai modus kasus harian pulau Jawa tanggal 02 Desember 2021 =\",\n",
        "      mod_jawa\n",
        "      )"
      ],
      "execution_count": 107,
      "outputs": [
        {
          "output_type": "stream",
          "name": "stdout",
          "text": [
            "Nilai modus kasus harian pulau Jawa tanggal 02 Desember 2021 = 0     7\n",
            "1    15\n",
            "2    23\n",
            "3    24\n",
            "4    28\n",
            "5    77\n",
            "dtype: int64\n"
          ]
        }
      ]
    },
    {
      "cell_type": "code",
      "metadata": {
        "colab": {
          "base_uri": "https://localhost:8080/"
        },
        "id": "6EqMcyFtB6-g",
        "outputId": "d4574caf-6315-48a2-b18b-69813b7ad3e3"
      },
      "source": [
        "#nilai variansi dari kasus harian pulau jawa\n",
        "print(jawa['New Active Cases'].var())"
      ],
      "execution_count": 100,
      "outputs": [
        {
          "output_type": "stream",
          "name": "stdout",
          "text": [
            "609.2\n"
          ]
        }
      ]
    },
    {
      "cell_type": "code",
      "metadata": {
        "colab": {
          "base_uri": "https://localhost:8080/"
        },
        "id": "zcevR_wvDE7Q",
        "outputId": "ed766023-c411-4c24-e2a6-7e6965675cc7"
      },
      "source": [
        "#nilai standar devisi dari kasus harian pulau Jawa\n",
        "print(jawa['New Active Cases'].std())"
      ],
      "execution_count": 101,
      "outputs": [
        {
          "output_type": "stream",
          "name": "stdout",
          "text": [
            "24.68197723035981\n"
          ]
        }
      ]
    },
    {
      "cell_type": "markdown",
      "metadata": {
        "id": "jXjS53HeHErs"
      },
      "source": [
        "## Central Tendency & Measure of Variance Pulau Sumatera"
      ]
    },
    {
      "cell_type": "code",
      "metadata": {
        "colab": {
          "base_uri": "https://localhost:8080/"
        },
        "id": "tpLEjRNZEWEE",
        "outputId": "351d932e-105e-407f-b95e-4584177681da"
      },
      "source": [
        "#rata-rata kasus harian pulau Sumatera\n",
        "sumatera = desember[desember.Island == 'Sumatera']\n",
        "mean_sumatera = sumatera['New Active Cases'].mean()\n",
        "print(\"Rata-rata kasus harian pulau Sumatera tanggal 02 Desember 2021 =\", mean_sumatera, \"kasus\") "
      ],
      "execution_count": 102,
      "outputs": [
        {
          "output_type": "stream",
          "name": "stdout",
          "text": [
            "Rata-rata kasus harian pulau Sumatera tanggal 02 Desember 2021 = 3.5 kasus\n"
          ]
        }
      ]
    },
    {
      "cell_type": "code",
      "metadata": {
        "colab": {
          "base_uri": "https://localhost:8080/"
        },
        "id": "CW-Z8F6LEner",
        "outputId": "5e276150-bc15-4fc7-c43a-46f309124d98"
      },
      "source": [
        "#median kasus harian pulau Sumatera\n",
        "sumatera = desember[desember.Island == 'Sumatera']\n",
        "med_sumatera = sumatera['New Active Cases'].median()\n",
        "print(\"Nilai median kasus harian pulau Sumatera tanggal 02 Desember 2021 =\", med_sumatera, \"kasus\") "
      ],
      "execution_count": 103,
      "outputs": [
        {
          "output_type": "stream",
          "name": "stdout",
          "text": [
            "Nilai median kasus harian pulau Sumatera tanggal 02 Desember 2021 = 3.5 kasus\n"
          ]
        }
      ]
    },
    {
      "cell_type": "code",
      "metadata": {
        "colab": {
          "base_uri": "https://localhost:8080/"
        },
        "id": "Fd0ZZQahE0UM",
        "outputId": "16829ab7-9036-4940-8d8c-2b53753aa70b"
      },
      "source": [
        "#modus kasus harian pulau Sumatera\n",
        "sumatera = desember[desember.Island == 'Sumatera']\n",
        "mod_sumatera = sumatera['New Active Cases'].mode()\n",
        "print(\"Nilai modus kasus harian pulau Sumatera tanggal 02 Desember 2021 =\", mod_sumatera) "
      ],
      "execution_count": 106,
      "outputs": [
        {
          "output_type": "stream",
          "name": "stdout",
          "text": [
            "Nilai modus kasus harian pulau Sumatera tanggal 02 Desember 2021 = 0    4\n",
            "dtype: int64\n"
          ]
        }
      ]
    },
    {
      "cell_type": "code",
      "metadata": {
        "colab": {
          "base_uri": "https://localhost:8080/"
        },
        "id": "K1pr_GTrFStS",
        "outputId": "0bf72f6e-a9ff-4bef-dc58-c8caa30c2664"
      },
      "source": [
        "#nilai variansi dari kasus harian pulau Sumatera\n",
        "print(sumatera['New Active Cases'].var())"
      ],
      "execution_count": 115,
      "outputs": [
        {
          "output_type": "stream",
          "name": "stdout",
          "text": [
            "4.571428571428571\n"
          ]
        }
      ]
    },
    {
      "cell_type": "code",
      "metadata": {
        "colab": {
          "base_uri": "https://localhost:8080/"
        },
        "id": "0cp7Y2LdFWfh",
        "outputId": "3a911542-1325-43b4-99f5-0729e01eaef6"
      },
      "source": [
        "#nilai standar deviasi dari kasus harian pulau Sumatera\n",
        "print(sumatera['New Active Cases'].std())"
      ],
      "execution_count": 116,
      "outputs": [
        {
          "output_type": "stream",
          "name": "stdout",
          "text": [
            "2.138089935299395\n"
          ]
        }
      ]
    }
  ]
}