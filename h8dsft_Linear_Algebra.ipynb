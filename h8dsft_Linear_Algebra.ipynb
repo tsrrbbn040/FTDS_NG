{
  "nbformat": 4,
  "nbformat_minor": 0,
  "metadata": {
    "colab": {
      "name": "h8dsft_Linear_Algebra.ipynb",
      "provenance": [],
      "collapsed_sections": [],
      "authorship_tag": "ABX9TyO3M0zf3l/m13bQbWULh4e5",
      "include_colab_link": true
    },
    "kernelspec": {
      "name": "python3",
      "display_name": "Python 3"
    },
    "language_info": {
      "name": "python"
    }
  },
  "cells": [
    {
      "cell_type": "markdown",
      "metadata": {
        "id": "view-in-github",
        "colab_type": "text"
      },
      "source": [
        "<a href=\"https://colab.research.google.com/github/tsrrbbn040/FTDS_NG/blob/main/h8dsft_Linear_Algebra.ipynb\" target=\"_parent\"><img src=\"https://colab.research.google.com/assets/colab-badge.svg\" alt=\"Open In Colab\"/></a>"
      ]
    },
    {
      "cell_type": "markdown",
      "metadata": {
        "id": "fWTMNEXXvvQa"
      },
      "source": [
        "# Identitas\n",
        "\n",
        "* Nama : Muhammad Itsar Rabbani\n",
        "* Batch : 006\n",
        "* Tipe : Non-Graded Challenge 3 "
      ]
    },
    {
      "cell_type": "markdown",
      "metadata": {
        "id": "bH61eR2BwHyv"
      },
      "source": [
        "## 1. Buatlah Vector dibawah ini dengan Python:"
      ]
    },
    {
      "cell_type": "code",
      "metadata": {
        "id": "mfU3vLBzxHL8"
      },
      "source": [
        "import numpy as np"
      ],
      "execution_count": null,
      "outputs": []
    },
    {
      "cell_type": "code",
      "metadata": {
        "colab": {
          "base_uri": "https://localhost:8080/"
        },
        "id": "-0RHZ_uwvqBX",
        "outputId": "88188e83-dc1c-4e7e-a731-875cacf3a2c6"
      },
      "source": [
        "#Cara Pertama\n",
        "satu = np.array([17,22,19])\n",
        "print(satu)"
      ],
      "execution_count": null,
      "outputs": [
        {
          "output_type": "stream",
          "name": "stdout",
          "text": [
            "[17 22 19]\n"
          ]
        }
      ]
    },
    {
      "cell_type": "code",
      "metadata": {
        "colab": {
          "base_uri": "https://localhost:8080/"
        },
        "id": "ZhhWGMmDwG_3",
        "outputId": "869edec7-d796-4095-de43-7a99b5ab7702"
      },
      "source": [
        "#Cara Kedua\n",
        "kedua = [17,22,19]\n",
        "np_kedua = np.array(kedua)\n",
        "print(np_kedua)\n"
      ],
      "execution_count": null,
      "outputs": [
        {
          "output_type": "stream",
          "name": "stdout",
          "text": [
            "[17 22 19]\n"
          ]
        }
      ]
    },
    {
      "cell_type": "markdown",
      "metadata": {
        "id": "8_ALiWckxtUn"
      },
      "source": [
        "## 2. Terdapat 3 buah vektor 3 dimensi\n",
        "\n",
        "```\n",
        "A = [17,22,19]\n",
        "B = [10,20,11]\n",
        "C = [5,12,9]\n",
        "```\n",
        "\n",
        "Hitunglah :\n",
        "* A+B\n",
        "* B-C\n",
        "* A dot C\n",
        "* A x B\n",
        "* norm A\n",
        "* sudut antara vektor A dan B\n",
        "\n"
      ]
    },
    {
      "cell_type": "markdown",
      "metadata": {
        "id": "D3CKAby9yiE5"
      },
      "source": [
        "A. Menghitung A+B"
      ]
    },
    {
      "cell_type": "code",
      "metadata": {
        "colab": {
          "base_uri": "https://localhost:8080/"
        },
        "id": "q9R_6VpTxiQ8",
        "outputId": "b0650375-1d70-4c5e-df36-ba65990b2056"
      },
      "source": [
        "#karena sudah import numpy pada nomor sebelumnya jadi tidak perlu lagi\n",
        "A = [17,22,19]\n",
        "B = [10,20,11]\n",
        "a2 = np.array(A)\n",
        "b2 = np.array(B)\n",
        "print(\"Hasil A+B =\", a2 + b2)"
      ],
      "execution_count": null,
      "outputs": [
        {
          "output_type": "stream",
          "name": "stdout",
          "text": [
            "Hasil A+B = [27 42 30]\n"
          ]
        }
      ]
    },
    {
      "cell_type": "markdown",
      "metadata": {
        "id": "MHsmV7ogzwWO"
      },
      "source": [
        "B. Menghitung B-C"
      ]
    },
    {
      "cell_type": "code",
      "metadata": {
        "colab": {
          "base_uri": "https://localhost:8080/"
        },
        "id": "O8ekOKDBzvR-",
        "outputId": "04dcfda0-4370-49ac-d1fc-5ffdc3cd8b03"
      },
      "source": [
        "#Dengan cara yang sama, maka\n",
        "C = [5,12,9]\n",
        "c2 = np.array(C)\n",
        "print(\"Hasil B-C =\", b2-c2)"
      ],
      "execution_count": null,
      "outputs": [
        {
          "output_type": "stream",
          "name": "stdout",
          "text": [
            "Hasil B-C = [5 8 2]\n"
          ]
        }
      ]
    },
    {
      "cell_type": "markdown",
      "metadata": {
        "id": "nYhmafJI0A1Y"
      },
      "source": [
        "C. Menghitung A dot C"
      ]
    },
    {
      "cell_type": "code",
      "metadata": {
        "colab": {
          "base_uri": "https://localhost:8080/"
        },
        "id": "CQK_cFqx0DF7",
        "outputId": "8c5b0862-b9f1-45d9-b98d-48a171824622"
      },
      "source": [
        "A_C = a2.dot(c2)\n",
        "print(A_C)"
      ],
      "execution_count": null,
      "outputs": [
        {
          "output_type": "stream",
          "name": "stdout",
          "text": [
            "520\n"
          ]
        }
      ]
    },
    {
      "cell_type": "markdown",
      "metadata": {
        "id": "Sschs_i92Maq"
      },
      "source": [
        "D. Menghitung A x B"
      ]
    },
    {
      "cell_type": "code",
      "metadata": {
        "colab": {
          "base_uri": "https://localhost:8080/"
        },
        "id": "-pUWWRF22PY-",
        "outputId": "a081640a-5716-4a84-f7b7-2dc58a0d0957"
      },
      "source": [
        "AxB = a2 * b2\n",
        "print(\"Hasil dari A x B =\", AxB)"
      ],
      "execution_count": null,
      "outputs": [
        {
          "output_type": "stream",
          "name": "stdout",
          "text": [
            "Hasil dari A x B = [170 440 209]\n"
          ]
        }
      ]
    },
    {
      "cell_type": "markdown",
      "metadata": {
        "id": "m4tbz29z2eS_"
      },
      "source": [
        "E. Menghitung norm A"
      ]
    },
    {
      "cell_type": "code",
      "metadata": {
        "colab": {
          "base_uri": "https://localhost:8080/"
        },
        "id": "q4dDV8ku2hnD",
        "outputId": "dc45bf62-988f-42a6-88c3-bffe0751d5dc"
      },
      "source": [
        "#untuk menghitung norm A akan lebih efisien menggunakan function dari NumPy\n",
        "import numpy.linalg as LA \n",
        "print(\"Hasil dari norm A =\", LA.norm(a2))"
      ],
      "execution_count": 37,
      "outputs": [
        {
          "output_type": "stream",
          "name": "stdout",
          "text": [
            "Hasil dari norm A = 33.67491648096547\n"
          ]
        }
      ]
    },
    {
      "cell_type": "markdown",
      "metadata": {
        "id": "dE1RsNtG3Pva"
      },
      "source": [
        "F. Menghitung sudut antara Vector A dan Vector B"
      ]
    },
    {
      "cell_type": "code",
      "metadata": {
        "id": "TGCIRzIv3ToO"
      },
      "source": [
        "#Menggunakan fitur array, dot, arccos, clip pada NumPy\n",
        "from numpy import (dot, arccos, clip)\n",
        "\n",
        "#karena pada nomor sebelumnya belum mengimport feature norm secara khusus, maka\n",
        "from numpy.linalg import norm\n",
        "\n",
        "#Syntax hitung sudut\n",
        "v_ab = dot(a2,b2)/norm(a2)/norm(b2)\n",
        "sudut_AB = arccos(clip(v_ab, -1,1))"
      ],
      "execution_count": 41,
      "outputs": []
    },
    {
      "cell_type": "code",
      "metadata": {
        "colab": {
          "base_uri": "https://localhost:8080/"
        },
        "id": "Rcp3fcQh56lo",
        "outputId": "ad181be6-6fcb-4c82-bd3d-d1dada84d228"
      },
      "source": [
        "print(\"Hasil hitung sudut =\", sudut_AB)"
      ],
      "execution_count": 42,
      "outputs": [
        {
          "output_type": "stream",
          "name": "stdout",
          "text": [
            "Hasil hitung sudut = 0.21971776576153912\n"
          ]
        }
      ]
    },
    {
      "cell_type": "markdown",
      "metadata": {
        "id": "ahqyQ5Rnyq3_"
      },
      "source": [
        "## 3. Buatlah plot dari vector di bawah ini ke dalam bidang 2D\n",
        "```\n",
        "u = [2,5]\n",
        "v = [3,1]\n",
        "````\n"
      ]
    },
    {
      "cell_type": "markdown",
      "metadata": {
        "id": "3XknyIlw6nCm"
      },
      "source": [
        "Langkah yang pertama dilakukan adalah menginput U dan V ke fungsi array"
      ]
    },
    {
      "cell_type": "code",
      "metadata": {
        "id": "cFHOnBJOy0K0"
      },
      "source": [
        "u = [2,5]\n",
        "v = [3,1]\n",
        "np_u = np.array(u)\n",
        "np_v = np.array(v)"
      ],
      "execution_count": 43,
      "outputs": []
    },
    {
      "cell_type": "code",
      "metadata": {
        "id": "zhejODof6wHN"
      },
      "source": [
        "#jangan lupa import matplotlib,\n",
        "\n",
        "%matplotlib inline\n",
        "import matplotlib.pyplot as plt"
      ],
      "execution_count": 44,
      "outputs": []
    },
    {
      "cell_type": "markdown",
      "metadata": {
        "id": "B_rX021G8JuA"
      },
      "source": [
        "Langkah kedua"
      ]
    },
    {
      "cell_type": "code",
      "metadata": {
        "colab": {
          "base_uri": "https://localhost:8080/",
          "height": 286
        },
        "id": "vfcwWGj_6mDf",
        "outputId": "a5ee6af4-e764-48cb-ecb8-37b8136f53b3"
      },
      "source": [
        "#rumus yang dipakai menggunakan,\n",
        "x_coords, y_coords = zip(np_u, np_v)\n",
        "\n",
        "#coloring vector 2D\n",
        "plt.scatter(x_coords, y_coords, color=[\"g\",\"y\"])\n",
        "\n",
        "#mengskalakan ukuran vektor dengan panjang ke samping 5, dan ke atas 7\n",
        "plt.axis([0, 5, 0, 7])\n",
        "\n",
        "plt.grid()\n",
        "plt.show()\n",
        "\n",
        "'''\n",
        "  np_u = [2,5]\n",
        "  np_v = [3,1]\n",
        "'''\n"
      ],
      "execution_count": 57,
      "outputs": [
        {
          "output_type": "display_data",
          "data": {
            "image/png": "[encoded data removed]",
            "text/plain": [
              "<Figure size 432x288 with 1 Axes>"
            ]
          },
          "metadata": {
            "needs_background": "light"
          }
        },
        {
          "output_type": "execute_result",
          "data": {
            "application/vnd.google.colaboratory.intrinsic+json": {
              "type": "string"
            },
            "text/plain": [
              "'\\n  np_u = [2,5]\\n  np_v = [3,1]\\n'"
            ]
          },
          "metadata": {},
          "execution_count": 57
        }
      ]
    },
    {
      "cell_type": "markdown",
      "metadata": {
        "id": "0MzAeon48TnT"
      },
      "source": [
        "sebagai latihan termasuk catatan pribadi, karena vektor 2D di atas lebih sekedar koordinat maka di bawah ini adalah vektor 2D dengan bentuk anak panah\n",
        "\n",
        "rumus menggunakan yang tertera di Google Collab pada materi [d2am.ipynb](https://colab.research.google.com/github/ardhiraka/FSDS_Guidelines/blob/master/p0/w2/d2am.ipynb#scrollTo=l1xwQ-zapyUo)"
      ]
    },
    {
      "cell_type": "code",
      "metadata": {
        "id": "KJhoq_UT8hQO"
      },
      "source": [
        "#syntax nya\n",
        "def plot_vector2d(vector2d, origin=[0, 0], **options):\n",
        "    return plt.arrow(origin[0], origin[1], vector2d[0], vector2d[1],\n",
        "              head_width=0.2, head_length=0.3, length_includes_head=True,\n",
        "              **options)"
      ],
      "execution_count": 48,
      "outputs": []
    },
    {
      "cell_type": "code",
      "metadata": {
        "colab": {
          "base_uri": "https://localhost:8080/",
          "height": 269
        },
        "id": "zBip3XJR9DoK",
        "outputId": "8b8d53cf-d855-40a6-db52-21653553a7e5"
      },
      "source": [
        "#import ke syntax\n",
        "\n",
        "#plot np_u menjadi vektor 2D panah dengan warna green\n",
        "plot_vector2d(np_u, color=\"g\")\n",
        "\n",
        "#plot np_v menjadi vektor 2D panah dengan warna yellow\n",
        "plot_vector2d(np_v, color=\"y\")\n",
        "\n",
        "#ukuran vektor\n",
        "plt.axis([0, 5, 0, 7])\n",
        "\n",
        "plt.grid()\n",
        "plt.show()"
      ],
      "execution_count": 49,
      "outputs": [
        {
          "output_type": "display_data",
          "data": {
            "image/png": "[encoded data removed]",
            "text/plain": [
              "<Figure size 432x288 with 1 Axes>"
            ]
          },
          "metadata": {
            "needs_background": "light"
          }
        }
      ]
    }
  ]
}