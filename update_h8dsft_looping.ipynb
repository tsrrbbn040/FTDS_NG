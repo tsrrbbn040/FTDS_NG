{
  "nbformat": 4,
  "nbformat_minor": 0,
  "metadata": {
    "colab": {
      "name": "h8dsft_looping.ipynb",
      "provenance": [],
      "authorship_tag": "ABX9TyOJ3ZEq8qTySrpZy6HJPhHI"
    },
    "kernelspec": {
      "name": "python3",
      "display_name": "Python 3"
    },
    "language_info": {
      "name": "python"
    }
  },
  "cells": [
    {
      "cell_type": "markdown",
      "metadata": {
        "id": "gw-6Ettp_T8A"
      },
      "source": [
        "# **Task Instructions**\n",
        "\n",
        "Buatlah sebuah list dengan value berupa:\n",
        "\n",
        "numbers = [951, 402, 984, 651, 360, 69, 408, 319, 601, 485, 980, 507, 725, 547, 544, 615, 83, 165, 141, 501, 263, 617, 865, 575, 219, 390, 984, 592, 236, 105, 942, 941, 386, 462, 47, 418, 907, 344, 236, 375, 823, 566, 597, 978, 328, 615, 953, 345, 399, 162, 758, 219, 918, 237, 412, 566, 826, 248, 866, 950, 626, 949]\n",
        "\n",
        "Loop dan print semua angka genap dari list angka diatas dengan urutan yang sama. **Jangan** mencetak angka apa pun yang muncul **setelah angka 918**.\n",
        "\n",
        "Tampilkan pesan 'Done' setelah looping berakhir."
      ]
    },
    {
      "cell_type": "markdown",
      "metadata": {
        "id": "-6IkSbsF_sY_"
      },
      "source": [
        "# **SOLVING**"
      ]
    },
    {
      "cell_type": "code",
      "metadata": {
        "colab": {
          "base_uri": "https://localhost:8080/"
        },
        "id": "bNWPtxd6_Oen",
        "outputId": "fa9b5313-1b95-4239-c693-2269d5127112"
      },
      "source": [
        "numbers = [951, 402, 984, 651, 360, 69, 408, 319, 601, 485, 980, 507, 725, 547, 544, 615, 83, 165, 141, 501, 263, 617, 865, 575, 219, 390, 984, 592, 236, 105, 942, 941, 386, 462, 47, 418, 907, 344, 236, 375, 823, 566, 597, 978, 328, 615, 953, 345, 399, 162, 758, 219, 918, 237, 412, 566, 826, 248, 866, 950, 626, 949]\n",
        "\n",
        "for genap in numbers:     #mulai mencari angka genap\n",
        "    if genap %2 == 0:     #mencari angka genap dari numbers dengan boolean \n",
        "      print(genap)        #menampilkan hasil angka genap dari numbers\n",
        "      if genap == 918:    #perintah pembatalan hasil print jika nilai genap sudah mencapai angka 918\n",
        "        break             #eksekusi perintah\n",
        "            \n",
        "print('Done')             #menampilkan Done"
      ],
      "execution_count": 19,
      "outputs": [
        {
          "output_type": "stream",
          "name": "stdout",
          "text": [
            "402\n",
            "984\n",
            "360\n",
            "408\n",
            "980\n",
            "544\n",
            "390\n",
            "984\n",
            "592\n",
            "236\n",
            "942\n",
            "386\n",
            "462\n",
            "418\n",
            "344\n",
            "236\n",
            "566\n",
            "978\n",
            "328\n",
            "162\n",
            "758\n",
            "918\n",
            "Done\n"
          ]
        }
      ]
    }
  ]
}