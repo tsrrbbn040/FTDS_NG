{
  "nbformat": 4,
  "nbformat_minor": 0,
  "metadata": {
    "colab": {
      "name": "h8dsft_Calculus3.ipynb",
      "provenance": [],
      "collapsed_sections": [],
      "authorship_tag": "ABX9TyMmx4X+DQQTndcLoStbk/5t",
      "include_colab_link": true
    },
    "kernelspec": {
      "name": "python3",
      "display_name": "Python 3"
    },
    "language_info": {
      "name": "python"
    }
  },
  "cells": [
    {
      "cell_type": "markdown",
      "metadata": {
        "id": "view-in-github",
        "colab_type": "text"
      },
      "source": [
        "<a href=\"https://colab.research.google.com/github/tsrrbbn040/FTDS_NG/blob/main/h8dsft_Calculus3.ipynb\" target=\"_parent\"><img src=\"https://colab.research.google.com/assets/colab-badge.svg\" alt=\"Open In Colab\"/></a>"
      ]
    },
    {
      "cell_type": "markdown",
      "metadata": {
        "id": "CbOEnHIA3OIt"
      },
      "source": [
        "# Identitas\n",
        "  * Nama : Muhammad Itsar Rabbani\n",
        "  * Batch : 006"
      ]
    },
    {
      "cell_type": "markdown",
      "metadata": {
        "id": "LqPNOAaY3QEG"
      },
      "source": [
        "## 1. Carilah Gradient dari sebuah fungsi berikut:\n",
        "    3𝑥+4𝑦=5\n"
      ]
    },
    {
      "cell_type": "code",
      "metadata": {
        "id": "PBw32eDi2zku"
      },
      "source": [
        "#import function\n",
        "import sympy as sy\n",
        "from sympy.tensor.array import derive_by_array\n",
        "\n",
        "#insert symbol\n",
        "x, y = sy.symbols('x y')\n",
        "\n",
        "#insert fungsi\n",
        "f = 3*x + 4*y - 5"
      ],
      "execution_count": 7,
      "outputs": []
    },
    {
      "cell_type": "code",
      "metadata": {
        "colab": {
          "base_uri": "https://localhost:8080/",
          "height": 37
        },
        "id": "niXz-36y34rk",
        "outputId": "d946fb6b-5018-4fce-bdcc-cd91c9750c48"
      },
      "source": [
        "#hasil gradien dari fungsi 3x + 4y = 5\n",
        "derive_by_array(f, (x, y))"
      ],
      "execution_count": 8,
      "outputs": [
        {
          "output_type": "execute_result",
          "data": {
            "text/latex": "$\\displaystyle \\left[\\begin{matrix}3 & 4\\end{matrix}\\right]$",
            "text/plain": [
              "[3, 4]"
            ]
          },
          "metadata": {},
          "execution_count": 8
        }
      ]
    },
    {
      "cell_type": "markdown",
      "metadata": {
        "id": "fbaeFGGC7ird"
      },
      "source": [
        "x dalam hal ini angka '3' adalah turunan f(x) dari fungsi f\n",
        "\n",
        "dan, y dalam hal ini angka '4' adalah turunan f(y) dari fungsi f"
      ]
    }
  ]
}