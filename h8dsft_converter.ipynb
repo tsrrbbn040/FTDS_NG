{
  "nbformat": 4,
  "nbformat_minor": 0,
  "metadata": {
    "colab": {
      "name": "h8dsft_converter.ipynb",
      "provenance": [],
      "authorship_tag": "ABX9TyOp75YirKy+fvCqQMAWn2FA"
    },
    "kernelspec": {
      "name": "python3",
      "display_name": "Python 3"
    },
    "language_info": {
      "name": "python"
    }
  },
  "cells": [
    {
      "cell_type": "markdown",
      "metadata": {
        "id": "S1IbksdwtMQo"
      },
      "source": [
        "#Temperature convert function from Kelvin to Celcius"
      ]
    },
    {
      "cell_type": "code",
      "metadata": {
        "colab": {
          "base_uri": "https://localhost:8080/"
        },
        "id": "9UK51WGH-cx9",
        "outputId": "34812f74-df7c-4ccd-9359-506f4aab545d"
      },
      "source": [
        "def conK_C(angka=0):\n",
        "  print(\"suhu hari ini adalah\") #kalimat pembuka\n",
        "  print(int(angka - 273.15), '°celcius') #syntax pengubah suhu\n",
        "\n",
        "conK_C()\n",
        "#syntax pemanggil, tinggal masukkan derajat suhu yang diinginkan\n",
        "#suhu default adalah 0° karena pada conK_C, angka disetting 0°"
      ],
      "execution_count": 84,
      "outputs": [
        {
          "output_type": "stream",
          "name": "stdout",
          "text": [
            "suhu hari ini adalah\n",
            "-273 °celcius\n"
          ]
        }
      ]
    },
    {
      "cell_type": "markdown",
      "metadata": {
        "id": "E_U_AwPu_-QB"
      },
      "source": [
        "## Temperature convert function from Celcius to Kelvin"
      ]
    },
    {
      "cell_type": "code",
      "metadata": {
        "id": "RdkMSB0Ouwna",
        "colab": {
          "base_uri": "https://localhost:8080/"
        },
        "outputId": "27469375-f8ac-4db3-9b38-ba67b68c265a"
      },
      "source": [
        "def conC_K(angka=0):\n",
        "  print(\"suhu hari ini adalah\") #kalimat pembuka\n",
        "  print(int(angka + 273.15), '°kelvin') #syntax pengubah suhu\n",
        "\n",
        "conC_K()\n",
        "#syntax pemanggil, tinggal masukkan derajat suhu yang diinginkan\n",
        "#suhu default adalah 0° karena pada conC_K, angka disetting 0°"
      ],
      "execution_count": 85,
      "outputs": [
        {
          "output_type": "stream",
          "name": "stdout",
          "text": [
            "suhu hari ini adalah\n",
            "273 °kelvin\n"
          ]
        }
      ]
    },
    {
      "cell_type": "markdown",
      "metadata": {
        "id": "k9aQNHCxByfP"
      },
      "source": [
        "#Konversi suhu ke Fahrenheit\n",
        "bisa celcius atau kelvin"
      ]
    },
    {
      "cell_type": "code",
      "metadata": {
        "id": "JZ0Imp0xBTJG"
      },
      "source": [
        "def conv_K(angka=0):\n",
        "  if conv_K(angka % 1 == 0):\n",
        "    print('celcius')"
      ],
      "execution_count": 87,
      "outputs": []
    },
    {
      "cell_type": "markdown",
      "metadata": {
        "id": "qXHQsnCnIIF_"
      },
      "source": [
        "checkpoint"
      ]
    }
  ]
}