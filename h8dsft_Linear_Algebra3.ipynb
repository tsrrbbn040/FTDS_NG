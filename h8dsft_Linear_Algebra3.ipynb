{
  "nbformat": 4,
  "nbformat_minor": 0,
  "metadata": {
    "colab": {
      "name": "h8dsft_Linear_Algebra3.ipynb",
      "provenance": [],
      "collapsed_sections": [],
      "authorship_tag": "ABX9TyObbpsIOh4HbIwqg5ajfuPN",
      "include_colab_link": true
    },
    "kernelspec": {
      "name": "python3",
      "display_name": "Python 3"
    },
    "language_info": {
      "name": "python"
    }
  },
  "cells": [
    {
      "cell_type": "markdown",
      "metadata": {
        "id": "view-in-github",
        "colab_type": "text"
      },
      "source": [
        "<a href=\"https://colab.research.google.com/github/tsrrbbn040/FTDS_NG/blob/main/h8dsft_Linear_Algebra3.ipynb\" target=\"_parent\"><img src=\"https://colab.research.google.com/assets/colab-badge.svg\" alt=\"Open In Colab\"/></a>"
      ]
    },
    {
      "cell_type": "markdown",
      "metadata": {
        "id": "TOfbRUw26GnB"
      },
      "source": [
        "# Identitas\n",
        "\n",
        "* Nama : Muhammad Itsar Rabbani\n",
        "* Batch : 06 "
      ]
    },
    {
      "cell_type": "markdown",
      "metadata": {
        "id": "EpKv4Y7U6Nso"
      },
      "source": [
        "# Apakah [1, 3] adalah eigenvector dari [[1, -1], [6, 4]]? Jika iya, berapakah eigenvalue-nya?"
      ]
    },
    {
      "cell_type": "markdown",
      "metadata": {
        "id": "-32ziJTl7nMM"
      },
      "source": [
        "untuk membuktikan apakah [1, 3] merupakan eigenvector dari [[1, -1], [6, 4]] hal yang harus dilakukan adalah :"
      ]
    },
    {
      "cell_type": "code",
      "metadata": {
        "id": "t2r5k7ZO5_qy"
      },
      "source": [
        "#import function\n",
        "import numpy as np"
      ],
      "execution_count": 37,
      "outputs": []
    },
    {
      "cell_type": "code",
      "metadata": {
        "id": "rcxP_MTr8HPm"
      },
      "source": [
        "#input matriks\n",
        "A = np.array([[1, -1], [6, 4]])\n",
        "B = np.array([1, 3])"
      ],
      "execution_count": 41,
      "outputs": []
    },
    {
      "cell_type": "markdown",
      "metadata": {
        "id": "MTzLxmjg6cFo"
      },
      "source": [
        "Karena persamaan eigende :     \n",
        "\n",
        "** Ax = @x **\n",
        "\n",
        "  * A = matriks\n",
        "  * x = eigenvector\n",
        "  * @ = eigenvalue"
      ]
    },
    {
      "cell_type": "code",
      "metadata": {
        "colab": {
          "base_uri": "https://localhost:8080/"
        },
        "id": "8pKe8JZdD63l",
        "outputId": "a3d493ab-968f-4995-e95d-caa3fb0934b4"
      },
      "source": [
        "#mencari tau hasil A.dot(B)\n",
        "A@B"
      ],
      "execution_count": 43,
      "outputs": [
        {
          "output_type": "execute_result",
          "data": {
            "text/plain": [
              "array([-2, 18])"
            ]
          },
          "metadata": {},
          "execution_count": 43
        }
      ]
    },
    {
      "cell_type": "markdown",
      "metadata": {
        "id": "yfG1Sv2bEwyU"
      },
      "source": [
        "karena [[1, -1], [6,  4]] x [1, 3] = [-2, 18]\n",
        "\n",
        "**maka jawabannya, [1, 3] bukanlah eigenvector dari A**. \n",
        "\n",
        "\n",
        "--\n",
        "\n",
        "\n",
        "Oleh karena itu sebetulnya pencarian eigenvaluenya tidak perlu dilakukan"
      ]
    },
    {
      "cell_type": "markdown",
      "metadata": {
        "id": "aiRydkwgGUqG"
      },
      "source": [
        "Sebagai Latihan,"
      ]
    },
    {
      "cell_type": "code",
      "metadata": {
        "id": "COdF5XJsFp-h"
      },
      "source": [
        "#lantas berapa nilai eigenvector dan eigenvalue dari A?\n",
        "#import funct eig\n",
        "from numpy.linalg import eig"
      ],
      "execution_count": 51,
      "outputs": []
    },
    {
      "cell_type": "code",
      "metadata": {
        "id": "xuQOG4aN-zGt"
      },
      "source": [
        "#pertama lakukan\n",
        "eigVal,eigVec = eig(A)"
      ],
      "execution_count": 46,
      "outputs": []
    },
    {
      "cell_type": "code",
      "metadata": {
        "id": "PEWa2YwM8n3J"
      },
      "source": [
        "#gunakan function eigendecomposition\n",
        "egA = eigVec@np.diag(eigVal)@np.linalg.inv(eigVec)"
      ],
      "execution_count": 47,
      "outputs": []
    },
    {
      "cell_type": "code",
      "metadata": {
        "colab": {
          "base_uri": "https://localhost:8080/"
        },
        "id": "9uRDnxhv9nql",
        "outputId": "0da77b29-a7b4-4a90-cf7f-6519059e7517"
      },
      "source": [
        "#Eigendecomposition dari matriks A adalah\n",
        "egA"
      ],
      "execution_count": 49,
      "outputs": [
        {
          "output_type": "execute_result",
          "data": {
            "text/plain": [
              "array([[ 1.+1.40042907e-16j, -1.-1.64348860e-17j],\n",
              "       [ 6.+2.45405006e-16j,  4.+1.39206967e-17j]])"
            ]
          },
          "metadata": {},
          "execution_count": 49
        }
      ]
    },
    {
      "cell_type": "markdown",
      "metadata": {
        "id": "eyw48baM_i-z"
      },
      "source": [
        "**Jadi berapa nilai eigenvalue dan eigenvector dari A?**"
      ]
    },
    {
      "cell_type": "code",
      "metadata": {
        "colab": {
          "base_uri": "https://localhost:8080/"
        },
        "id": "f5xihW3M_Op7",
        "outputId": "a4c41bed-f933-4230-dc4f-82ae60b8a53e"
      },
      "source": [
        "print(eigVal)"
      ],
      "execution_count": 18,
      "outputs": [
        {
          "output_type": "stream",
          "name": "stdout",
          "text": [
            "[-0.37228132  5.37228132]\n"
          ]
        }
      ]
    },
    {
      "cell_type": "code",
      "metadata": {
        "colab": {
          "base_uri": "https://localhost:8080/"
        },
        "id": "tGEWGh-WGJV4",
        "outputId": "d4c18d93-c78e-4b12-dff7-cc6a6f9cbfd2"
      },
      "source": [
        "print(eigVec)"
      ],
      "execution_count": 50,
      "outputs": [
        {
          "output_type": "stream",
          "name": "stdout",
          "text": [
            "[[-0.23145502+0.29880715j -0.23145502-0.29880715j]\n",
            " [ 0.9258201 +0.j          0.9258201 -0.j        ]]\n"
          ]
        }
      ]
    }
  ]
}