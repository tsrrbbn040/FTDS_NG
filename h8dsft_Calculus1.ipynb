{
  "nbformat": 4,
  "nbformat_minor": 0,
  "metadata": {
    "colab": {
      "name": "h8dsft_Calculus1.ipynb",
      "provenance": [],
      "collapsed_sections": [],
      "authorship_tag": "ABX9TyMM3sfn1NkFDb4k4vKqeEHb",
      "include_colab_link": true
    },
    "kernelspec": {
      "name": "python3",
      "display_name": "Python 3"
    },
    "language_info": {
      "name": "python"
    }
  },
  "cells": [
    {
      "cell_type": "markdown",
      "metadata": {
        "id": "view-in-github",
        "colab_type": "text"
      },
      "source": [
        "<a href=\"https://colab.research.google.com/github/tsrrbbn040/FTDS_NG/blob/main/h8dsft_Calculus1.ipynb\" target=\"_parent\"><img src=\"https://colab.research.google.com/assets/colab-badge.svg\" alt=\"Open In Colab\"/></a>"
      ]
    },
    {
      "cell_type": "markdown",
      "metadata": {
        "id": "VCaKQNjU0rRL"
      },
      "source": [
        "# Identitas\n",
        "  * Nama : Muhammad Itsar Rabbani\n",
        "  * Batch : 006"
      ]
    },
    {
      "cell_type": "markdown",
      "metadata": {
        "id": "vmDHJnsi0rKh"
      },
      "source": [
        "**1. Carilah turunan dari fungsi**\n",
        "\n",
        "y1 = x^2 + 2*x + 1\n",
        "y2 = 4*x^3 - 3*x^2 + 2*x - 1"
      ]
    },
    {
      "cell_type": "code",
      "metadata": {
        "id": "bI4V4Cah0qXs"
      },
      "source": [
        "#masukkan ke dalam bentuk simbol\n",
        "import sympy as sy\n",
        "x = sy.Symbol('x')\n",
        "\n",
        "y1 = x**2 + 2*x + 1\n",
        "y2 = 4*x**3 - 3*x**2 + 2*x - 1"
      ],
      "execution_count": 10,
      "outputs": []
    },
    {
      "cell_type": "code",
      "metadata": {
        "colab": {
          "base_uri": "https://localhost:8080/",
          "height": 38
        },
        "id": "8264-UkJ01qh",
        "outputId": "f2f8b20d-50da-4ff2-c238-c0faab762d0b"
      },
      "source": [
        "y1"
      ],
      "execution_count": 8,
      "outputs": [
        {
          "output_type": "execute_result",
          "data": {
            "text/latex": "$\\displaystyle x^{2} + 2 x + 1$",
            "text/plain": [
              "x**2 + 2*x + 1"
            ]
          },
          "metadata": {},
          "execution_count": 8
        }
      ]
    },
    {
      "cell_type": "code",
      "metadata": {
        "colab": {
          "base_uri": "https://localhost:8080/",
          "height": 38
        },
        "id": "mx6pAC6H1SUe",
        "outputId": "ecb35790-94af-4ded-f7e6-c71ea94f32c7"
      },
      "source": [
        "y2"
      ],
      "execution_count": 9,
      "outputs": [
        {
          "output_type": "execute_result",
          "data": {
            "text/latex": "$\\displaystyle 4 x^{3} - 3 x^{2} + 2 x - 1$",
            "text/plain": [
              "4*x**3 - 3*x**2 + 2*x - 1"
            ]
          },
          "metadata": {},
          "execution_count": 9
        }
      ]
    },
    {
      "cell_type": "markdown",
      "metadata": {
        "id": "creahZlA2lC6"
      },
      "source": [
        "**Answer**"
      ]
    },
    {
      "cell_type": "code",
      "metadata": {
        "colab": {
          "base_uri": "https://localhost:8080/",
          "height": 38
        },
        "id": "5DByjDzE1lXX",
        "outputId": "440ce7a4-0fc3-433a-8e6a-a19e1f06f8fb"
      },
      "source": [
        "#Turunan y2\n",
        "y1.diff()"
      ],
      "execution_count": 18,
      "outputs": [
        {
          "output_type": "execute_result",
          "data": {
            "text/latex": "$\\displaystyle 2 x + 2$",
            "text/plain": [
              "2*x + 2"
            ]
          },
          "metadata": {},
          "execution_count": 18
        }
      ]
    },
    {
      "cell_type": "code",
      "metadata": {
        "id": "-FSMDfy714mz"
      },
      "source": [
        "#Turunan y2"
      ],
      "execution_count": 19,
      "outputs": []
    },
    {
      "cell_type": "code",
      "metadata": {
        "colab": {
          "base_uri": "https://localhost:8080/",
          "height": 38
        },
        "id": "5LXRQJpE15Or",
        "outputId": "6072abcf-6f12-4f94-91a7-bf2ef46ef9da"
      },
      "source": [
        "y2.diff()"
      ],
      "execution_count": 20,
      "outputs": [
        {
          "output_type": "execute_result",
          "data": {
            "text/latex": "$\\displaystyle 12 x^{2} - 6 x + 2$",
            "text/plain": [
              "12*x**2 - 6*x + 2"
            ]
          },
          "metadata": {},
          "execution_count": 20
        }
      ]
    }
  ]
}