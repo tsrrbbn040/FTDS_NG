{
  "nbformat": 4,
  "nbformat_minor": 0,
  "metadata": {
    "colab": {
      "name": "h8dsft_Probability.ipynb",
      "provenance": [],
      "collapsed_sections": [],
      "authorship_tag": "ABX9TyMwF2AvwgFbGRzLb56NskiJ",
      "include_colab_link": true
    },
    "kernelspec": {
      "name": "python3",
      "display_name": "Python 3"
    },
    "language_info": {
      "name": "python"
    }
  },
  "cells": [
    {
      "cell_type": "markdown",
      "metadata": {
        "id": "view-in-github",
        "colab_type": "text"
      },
      "source": [
        "<a href=\"https://colab.research.google.com/github/tsrrbbn040/FTDS_NG/blob/main/h8dsft_Probability.ipynb\" target=\"_parent\"><img src=\"https://colab.research.google.com/assets/colab-badge.svg\" alt=\"Open In Colab\"/></a>"
      ]
    },
    {
      "cell_type": "markdown",
      "metadata": {
        "id": "p8DlMYG-HocO"
      },
      "source": [
        "# Identitas\n",
        "\n",
        "* Nama : Muhammad Itsar Rabbani\n",
        "* Batch : 006\n",
        "* Objective :\n",
        "  Buatlah sebuah kode untuk mensimulasikan melempar koin sebanyak 50.000 kali dengan assign value random berupa 0 dan 1 untuk kepala atau ekor. Setiap kali koin dilempar, peluang untuk mendapatkan kepala atau ekor adalah 50%.\n"
      ]
    },
    {
      "cell_type": "code",
      "metadata": {
        "id": "-eXu56jz1EP4",
        "colab": {
          "base_uri": "https://localhost:8080/"
        },
        "outputId": "ee95257d-6147-4e1e-983a-a3cedd7aafa1"
      },
      "source": [
        "#assign value random\n",
        "import random\n",
        "\n",
        "# list kosong\n",
        "hasil = [0,0]\n",
        "\n",
        "# persentase\n",
        "persen = 0\n",
        "\n",
        "# pelemparan sebanyak 0 - 50.000 kali\n",
        "lempar_akhir = 50000\n",
        "lempar_awal = 0\n",
        "\n",
        "# looping\n",
        "while lempar_awal < lempar_akhir:\n",
        "    lempar_awal = lempar_awal + 1\n",
        "    lempar = random.randint(0,1) #random diantara 0 dan 1 dengan asumsi 0 berarti kepala, 1 berarti ekor\n",
        "    hasil[lempar] = hasil[lempar] + 1\n",
        "\n",
        "print(\"Jumlah kemunculan kepala atau ekor:\", hasil)"
      ],
      "execution_count": 14,
      "outputs": [
        {
          "output_type": "stream",
          "name": "stdout",
          "text": [
            "Jumlah kemunculan kepala atau ekor: [25032, 24968]\n"
          ]
        }
      ]
    },
    {
      "cell_type": "code",
      "metadata": {
        "id": "4VuAc6qXMUm4"
      },
      "source": [
        ""
      ],
      "execution_count": null,
      "outputs": []
    }
  ]
}