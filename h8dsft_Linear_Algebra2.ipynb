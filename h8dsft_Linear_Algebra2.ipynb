{
  "nbformat": 4,
  "nbformat_minor": 0,
  "metadata": {
    "colab": {
      "name": "h8dsft_Linear_Algebra2.ipynb",
      "provenance": [],
      "collapsed_sections": [],
      "authorship_tag": "ABX9TyMoMrmWV8ImyE7WDO0hpzkt",
      "include_colab_link": true
    },
    "kernelspec": {
      "name": "python3",
      "display_name": "Python 3"
    },
    "language_info": {
      "name": "python"
    }
  },
  "cells": [
    {
      "cell_type": "markdown",
      "metadata": {
        "id": "view-in-github",
        "colab_type": "text"
      },
      "source": [
        "<a href=\"https://colab.research.google.com/github/tsrrbbn040/FTDS_NG/blob/main/h8dsft_Linear_Algebra2.ipynb\" target=\"_parent\"><img src=\"https://colab.research.google.com/assets/colab-badge.svg\" alt=\"Open In Colab\"/></a>"
      ]
    },
    {
      "cell_type": "markdown",
      "metadata": {
        "id": "vw7ZDfouW_Ax"
      },
      "source": [
        "# Identitas\n",
        "\n",
        "* Nama : Muhammad Itsar Rabbani\n",
        "* Batch : 006"
      ]
    },
    {
      "cell_type": "code",
      "metadata": {
        "id": "xIkENzV1YTFp"
      },
      "source": [
        "import numpy as np"
      ],
      "execution_count": 30,
      "outputs": []
    },
    {
      "cell_type": "markdown",
      "metadata": {
        "id": "rnbO-zRyXGtC"
      },
      "source": [
        "# 1. Buatlah Tensor di bawah ini dengan Python\n",
        "\n",
        "ambil contoh penulisan dari kode.id materi W2 D2 AM\n",
        "\n",
        "```\n",
        "[\n",
        "  [[23, 50],\n",
        "  [7, 12]],\n",
        "  [[57,67],\n",
        "  [99,43]],\n",
        "  [[75, 21],\n",
        "  [57, 12]],\n",
        "  [[87, 26],\n",
        "  [18, 84]\n",
        "  ]\n",
        "  ```\n",
        "maka,"
      ]
    },
    {
      "cell_type": "code",
      "metadata": {
        "colab": {
          "base_uri": "https://localhost:8080/"
        },
        "id": "3-_6Fd1-Wtom",
        "outputId": "db8235dd-6cf6-4913-818c-2d6acd5e3c96"
      },
      "source": [
        "t = np.array(\n",
        "  [\n",
        "  [[23, 50],\n",
        "  [7, 12]],\n",
        "  [[57,67],\n",
        "  [99,43]],\n",
        "  [[75, 21],\n",
        "  [57, 12]],\n",
        "  [[87, 26],\n",
        "  [18, 84]\n",
        "  ]\n",
        "  ])\n",
        "\n",
        "#pembuktian tensor\n",
        "print(t.shape)\n",
        "\n",
        "#bentuk visual\n",
        "print(t)"
      ],
      "execution_count": 12,
      "outputs": [
        {
          "output_type": "stream",
          "name": "stdout",
          "text": [
            "(4, 2, 2)\n",
            "[[[23 50]\n",
            "  [ 7 12]]\n",
            "\n",
            " [[57 67]\n",
            "  [99 43]]\n",
            "\n",
            " [[75 21]\n",
            "  [57 12]]\n",
            "\n",
            " [[87 26]\n",
            "  [18 84]]]\n"
          ]
        }
      ]
    },
    {
      "cell_type": "markdown",
      "metadata": {
        "id": "JAgoD3AiW9-e"
      },
      "source": [
        "# 2. Lakukan perkalian  terhadap matrix berikut:\n",
        "\n",
        "```\n",
        "A = [[23, 50, 19], [7, 12, 109], [57, 67, 98]]\n",
        "\n",
        "B = [[17, 22, 19]]\n",
        "```"
      ]
    },
    {
      "cell_type": "markdown",
      "metadata": {
        "id": "ZBHxOaYsdD4v"
      },
      "source": [
        "maka,"
      ]
    },
    {
      "cell_type": "code",
      "metadata": {
        "id": "3S6A37KnY5wV"
      },
      "source": [
        "#input ke numpy\n",
        "a = np.array([[23, 50, 19], [7, 12, 109], [57, 67, 98]])\n",
        "b = np.array([17, 22, 19])"
      ],
      "execution_count": 8,
      "outputs": []
    },
    {
      "cell_type": "code",
      "metadata": {
        "colab": {
          "base_uri": "https://localhost:8080/"
        },
        "id": "5gEI1jgrdGtV",
        "outputId": "ee8fa47d-eb9a-441c-e8ae-463b209dd45b"
      },
      "source": [
        "#Cara 1\n",
        "AB = a@b\n",
        "print(AB)"
      ],
      "execution_count": 15,
      "outputs": [
        {
          "output_type": "stream",
          "name": "stdout",
          "text": [
            "[1852 2454 4305]\n"
          ]
        }
      ]
    },
    {
      "cell_type": "code",
      "metadata": {
        "colab": {
          "base_uri": "https://localhost:8080/"
        },
        "id": "SBC_HeildjFh",
        "outputId": "07900488-ddad-4d33-b86d-fecf1a20adba"
      },
      "source": [
        "#Cara 2\n",
        "A_B = a.dot(b)\n",
        "print(A_B)"
      ],
      "execution_count": 16,
      "outputs": [
        {
          "output_type": "stream",
          "name": "stdout",
          "text": [
            "[1852 2454 4305]\n"
          ]
        }
      ]
    },
    {
      "cell_type": "markdown",
      "metadata": {
        "id": "m0VTRnTaYBXl"
      },
      "source": [
        "# 3. Lakukan Transpose, Hitung Determinan, dan Inverse terhadap matrix di bawah ini:    \n",
        "```\n",
        "A = [[23, 50, 19], [7. 12. 109], [57, 67, 98]]\n",
        "```"
      ]
    },
    {
      "cell_type": "code",
      "metadata": {
        "colab": {
          "base_uri": "https://localhost:8080/"
        },
        "id": "LPwM-V13X7iG",
        "outputId": "a76ad95e-d110-4d8c-ab20-d98db6b3b187"
      },
      "source": [
        "#Input array\n",
        "A = np.array([[23, 50, 19], [7, 12, 109], [57, 67, 98]])\n",
        "print(A)"
      ],
      "execution_count": 20,
      "outputs": [
        {
          "output_type": "stream",
          "name": "stdout",
          "text": [
            "[[ 23  50  19]\n",
            " [  7  12 109]\n",
            " [ 57  67  98]]\n"
          ]
        }
      ]
    },
    {
      "cell_type": "markdown",
      "metadata": {
        "id": "T3FjRptN4yI9"
      },
      "source": [
        "**Transpose**"
      ]
    },
    {
      "cell_type": "code",
      "metadata": {
        "colab": {
          "base_uri": "https://localhost:8080/"
        },
        "id": "-WDrn-V33R2k",
        "outputId": "ccd2a6c3-dc26-48c8-dcdd-af9ee010e7c6"
      },
      "source": [
        "#syntax = A.T\n",
        "#hasil\n",
        "print(\"Transpose dari matriks A =\"\n",
        "  , A.T)"
      ],
      "execution_count": 37,
      "outputs": [
        {
          "output_type": "stream",
          "name": "stdout",
          "text": [
            "Transpose dari matriks A = [[ 23   7  57]\n",
            " [ 50  12  67]\n",
            " [ 19 109  98]]\n"
          ]
        }
      ]
    },
    {
      "cell_type": "markdown",
      "metadata": {
        "id": "2Ku6zvpS4zZZ"
      },
      "source": [
        "**Determinan**"
      ]
    },
    {
      "cell_type": "code",
      "metadata": {
        "id": "EooJ9Ty23prF"
      },
      "source": [
        "#import function\n",
        "from numpy.linalg import det"
      ],
      "execution_count": 35,
      "outputs": []
    },
    {
      "cell_type": "code",
      "metadata": {
        "colab": {
          "base_uri": "https://localhost:8080/"
        },
        "id": "yTq6P6bb4I80",
        "outputId": "e8f33438-2411-40bd-8c22-171753273bd3"
      },
      "source": [
        "#hasil determinan\n",
        "print(\"Determinan matriks A =\", det(A))"
      ],
      "execution_count": 36,
      "outputs": [
        {
          "output_type": "stream",
          "name": "stdout",
          "text": [
            "Determinan matriks A = 131344.0000000002\n"
          ]
        }
      ]
    },
    {
      "cell_type": "markdown",
      "metadata": {
        "id": "4P_9JbiH4-lq"
      },
      "source": [
        "**Invers**"
      ]
    },
    {
      "cell_type": "code",
      "metadata": {
        "id": "bW0HoGu74pbD"
      },
      "source": [
        "#import function\n",
        "from numpy.linalg import inv"
      ],
      "execution_count": 38,
      "outputs": []
    },
    {
      "cell_type": "code",
      "metadata": {
        "colab": {
          "base_uri": "https://localhost:8080/"
        },
        "id": "rjOE-sKs5C6b",
        "outputId": "2587680b-186b-4c33-961b-0cc133179b3c"
      },
      "source": [
        "#hasil invers matriks A\n",
        "#Cara 1\n",
        "inv(A)"
      ],
      "execution_count": 40,
      "outputs": [
        {
          "output_type": "execute_result",
          "data": {
            "text/plain": [
              "array([[-0.0466485 , -0.02761451,  0.03975819],\n",
              "       [ 0.04208034,  0.00891552, -0.01807467],\n",
              "       [-0.00163692,  0.0099662 , -0.00056341]])"
            ]
          },
          "metadata": {},
          "execution_count": 40
        }
      ]
    },
    {
      "cell_type": "code",
      "metadata": {
        "colab": {
          "base_uri": "https://localhost:8080/"
        },
        "id": "eL00odBU5Lfa",
        "outputId": "a82cf4d3-e554-48fb-af47-981ec54520b9"
      },
      "source": [
        "#hasil invers matriks A\n",
        "#Cara 2\n",
        "print(np.linalg.inv(A))"
      ],
      "execution_count": 42,
      "outputs": [
        {
          "output_type": "stream",
          "name": "stdout",
          "text": [
            "[[-0.0466485  -0.02761451  0.03975819]\n",
            " [ 0.04208034  0.00891552 -0.01807467]\n",
            " [-0.00163692  0.0099662  -0.00056341]]\n"
          ]
        }
      ]
    }
  ]
}